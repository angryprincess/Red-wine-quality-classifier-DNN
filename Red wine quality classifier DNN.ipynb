{
  "cells": [
    {
      "cell_type": "markdown",
      "id": "ZBxl44CPmil3",
      "metadata": {
        "id": "ZBxl44CPmil3"
      },
      "source": [
        "Author: Harshal Bhasgauri"
      ]
    },
    {
      "cell_type": "markdown",
      "id": "66681ee8",
      "metadata": {
        "id": "66681ee8",
        "papermill": {
          "duration": 0.053512,
          "end_time": "2022-03-22T02:40:23.128357",
          "exception": false,
          "start_time": "2022-03-22T02:40:23.074845",
          "status": "completed"
        },
        "tags": []
      },
      "source": [
        "Importing Libraries"
      ]
    },
    {
      "cell_type": "code",
      "execution_count": 10,
      "id": "73de8f70",
      "metadata": {
        "execution": {
          "iopub.execute_input": "2022-03-22T02:40:23.247799Z",
          "iopub.status.busy": "2022-03-22T02:40:23.243823Z",
          "iopub.status.idle": "2022-03-22T02:40:23.257677Z",
          "shell.execute_reply": "2022-03-22T02:40:23.258243Z",
          "shell.execute_reply.started": "2022-03-22T02:29:10.094652Z"
        },
        "id": "73de8f70",
        "papermill": {
          "duration": 0.078529,
          "end_time": "2022-03-22T02:40:23.258585",
          "exception": false,
          "start_time": "2022-03-22T02:40:23.180056",
          "status": "completed"
        },
        "tags": []
      },
      "outputs": [],
      "source": [
        "import numpy as np\n",
        "import pandas as pd\n",
        "import os\n",
        "import numpy as np \n",
        "import tensorflow as tf \n",
        "import matplotlib.pyplot as plt \n",
        "import pandas as pd \n",
        "import seaborn as sns\n",
        "\n",
        "from sklearn.preprocessing import StandardScaler\n",
        "%matplotlib inline\n",
        "\n",
        "from sklearn.metrics import confusion_matrix\n",
        "from sklearn.model_selection import train_test_split\n",
        "from sklearn.model_selection import cross_val_score\n",
        "\n",
        "import warnings\n",
        "warnings.filterwarnings(\"ignore\", category=FutureWarning)"
      ]
    },
    {
      "cell_type": "markdown",
      "id": "3480a421",
      "metadata": {
        "id": "3480a421",
        "papermill": {
          "duration": 0.051603,
          "end_time": "2022-03-22T02:40:29.587856",
          "exception": false,
          "start_time": "2022-03-22T02:40:29.536253",
          "status": "completed"
        },
        "tags": []
      },
      "source": [
        "Loading the data\n"
      ]
    },
    {
      "cell_type": "code",
      "execution_count": 11,
      "id": "94bc23d1",
      "metadata": {
        "colab": {
          "base_uri": "https://localhost:8080/",
          "height": 487
        },
        "execution": {
          "iopub.execute_input": "2022-03-22T02:40:29.695351Z",
          "iopub.status.busy": "2022-03-22T02:40:29.694624Z",
          "iopub.status.idle": "2022-03-22T02:40:29.753588Z",
          "shell.execute_reply": "2022-03-22T02:40:29.754087Z",
          "shell.execute_reply.started": "2022-03-22T02:29:16.164563Z"
        },
        "id": "94bc23d1",
        "outputId": "ab68c378-a66b-4579-ff67-17674ce79bdc",
        "papermill": {
          "duration": 0.115029,
          "end_time": "2022-03-22T02:40:29.754255",
          "exception": false,
          "start_time": "2022-03-22T02:40:29.639226",
          "status": "completed"
        },
        "tags": []
      },
      "outputs": [
        {
          "data": {
            "text/html": [
              "\n",
              "  <div id=\"df-b1c26ad2-3bdf-4bda-bc26-3173d5c0663c\">\n",
              "    <div class=\"colab-df-container\">\n",
              "      <div>\n",
              "<style scoped>\n",
              "    .dataframe tbody tr th:only-of-type {\n",
              "        vertical-align: middle;\n",
              "    }\n",
              "\n",
              "    .dataframe tbody tr th {\n",
              "        vertical-align: top;\n",
              "    }\n",
              "\n",
              "    .dataframe thead th {\n",
              "        text-align: right;\n",
              "    }\n",
              "</style>\n",
              "<table border=\"1\" class=\"dataframe\">\n",
              "  <thead>\n",
              "    <tr style=\"text-align: right;\">\n",
              "      <th></th>\n",
              "      <th>fixed_acidity</th>\n",
              "      <th>volatile_acidity</th>\n",
              "      <th>citric_acid</th>\n",
              "      <th>residual_sugar</th>\n",
              "      <th>chlorides</th>\n",
              "      <th>free_sulfur_dioxide</th>\n",
              "      <th>total_sulfur_dioxide</th>\n",
              "      <th>density</th>\n",
              "      <th>pH</th>\n",
              "      <th>sulphates</th>\n",
              "      <th>alcohol</th>\n",
              "      <th>quality</th>\n",
              "    </tr>\n",
              "  </thead>\n",
              "  <tbody>\n",
              "    <tr>\n",
              "      <th>0</th>\n",
              "      <td>7.4</td>\n",
              "      <td>0.700</td>\n",
              "      <td>0.00</td>\n",
              "      <td>1.9</td>\n",
              "      <td>0.076</td>\n",
              "      <td>11.0</td>\n",
              "      <td>34.0</td>\n",
              "      <td>0.99780</td>\n",
              "      <td>3.51</td>\n",
              "      <td>0.56</td>\n",
              "      <td>9.4</td>\n",
              "      <td>5</td>\n",
              "    </tr>\n",
              "    <tr>\n",
              "      <th>1</th>\n",
              "      <td>7.8</td>\n",
              "      <td>0.880</td>\n",
              "      <td>0.00</td>\n",
              "      <td>2.6</td>\n",
              "      <td>0.098</td>\n",
              "      <td>25.0</td>\n",
              "      <td>67.0</td>\n",
              "      <td>0.99680</td>\n",
              "      <td>3.20</td>\n",
              "      <td>0.68</td>\n",
              "      <td>9.8</td>\n",
              "      <td>5</td>\n",
              "    </tr>\n",
              "    <tr>\n",
              "      <th>2</th>\n",
              "      <td>7.8</td>\n",
              "      <td>0.760</td>\n",
              "      <td>0.04</td>\n",
              "      <td>2.3</td>\n",
              "      <td>0.092</td>\n",
              "      <td>15.0</td>\n",
              "      <td>54.0</td>\n",
              "      <td>0.99700</td>\n",
              "      <td>3.26</td>\n",
              "      <td>0.65</td>\n",
              "      <td>9.8</td>\n",
              "      <td>5</td>\n",
              "    </tr>\n",
              "    <tr>\n",
              "      <th>3</th>\n",
              "      <td>11.2</td>\n",
              "      <td>0.280</td>\n",
              "      <td>0.56</td>\n",
              "      <td>1.9</td>\n",
              "      <td>0.075</td>\n",
              "      <td>17.0</td>\n",
              "      <td>60.0</td>\n",
              "      <td>0.99800</td>\n",
              "      <td>3.16</td>\n",
              "      <td>0.58</td>\n",
              "      <td>9.8</td>\n",
              "      <td>6</td>\n",
              "    </tr>\n",
              "    <tr>\n",
              "      <th>4</th>\n",
              "      <td>7.4</td>\n",
              "      <td>0.700</td>\n",
              "      <td>0.00</td>\n",
              "      <td>1.9</td>\n",
              "      <td>0.076</td>\n",
              "      <td>11.0</td>\n",
              "      <td>34.0</td>\n",
              "      <td>0.99780</td>\n",
              "      <td>3.51</td>\n",
              "      <td>0.56</td>\n",
              "      <td>9.4</td>\n",
              "      <td>5</td>\n",
              "    </tr>\n",
              "    <tr>\n",
              "      <th>...</th>\n",
              "      <td>...</td>\n",
              "      <td>...</td>\n",
              "      <td>...</td>\n",
              "      <td>...</td>\n",
              "      <td>...</td>\n",
              "      <td>...</td>\n",
              "      <td>...</td>\n",
              "      <td>...</td>\n",
              "      <td>...</td>\n",
              "      <td>...</td>\n",
              "      <td>...</td>\n",
              "      <td>...</td>\n",
              "    </tr>\n",
              "    <tr>\n",
              "      <th>1594</th>\n",
              "      <td>6.2</td>\n",
              "      <td>0.600</td>\n",
              "      <td>0.08</td>\n",
              "      <td>2.0</td>\n",
              "      <td>0.090</td>\n",
              "      <td>32.0</td>\n",
              "      <td>44.0</td>\n",
              "      <td>0.99490</td>\n",
              "      <td>3.45</td>\n",
              "      <td>0.58</td>\n",
              "      <td>10.5</td>\n",
              "      <td>5</td>\n",
              "    </tr>\n",
              "    <tr>\n",
              "      <th>1595</th>\n",
              "      <td>5.9</td>\n",
              "      <td>0.550</td>\n",
              "      <td>0.10</td>\n",
              "      <td>2.2</td>\n",
              "      <td>0.062</td>\n",
              "      <td>39.0</td>\n",
              "      <td>51.0</td>\n",
              "      <td>0.99512</td>\n",
              "      <td>3.52</td>\n",
              "      <td>0.76</td>\n",
              "      <td>11.2</td>\n",
              "      <td>6</td>\n",
              "    </tr>\n",
              "    <tr>\n",
              "      <th>1596</th>\n",
              "      <td>6.3</td>\n",
              "      <td>0.510</td>\n",
              "      <td>0.13</td>\n",
              "      <td>2.3</td>\n",
              "      <td>0.076</td>\n",
              "      <td>29.0</td>\n",
              "      <td>40.0</td>\n",
              "      <td>0.99574</td>\n",
              "      <td>3.42</td>\n",
              "      <td>0.75</td>\n",
              "      <td>11.0</td>\n",
              "      <td>6</td>\n",
              "    </tr>\n",
              "    <tr>\n",
              "      <th>1597</th>\n",
              "      <td>5.9</td>\n",
              "      <td>0.645</td>\n",
              "      <td>0.12</td>\n",
              "      <td>2.0</td>\n",
              "      <td>0.075</td>\n",
              "      <td>32.0</td>\n",
              "      <td>44.0</td>\n",
              "      <td>0.99547</td>\n",
              "      <td>3.57</td>\n",
              "      <td>0.71</td>\n",
              "      <td>10.2</td>\n",
              "      <td>5</td>\n",
              "    </tr>\n",
              "    <tr>\n",
              "      <th>1598</th>\n",
              "      <td>6.0</td>\n",
              "      <td>0.310</td>\n",
              "      <td>0.47</td>\n",
              "      <td>3.6</td>\n",
              "      <td>0.067</td>\n",
              "      <td>18.0</td>\n",
              "      <td>42.0</td>\n",
              "      <td>0.99549</td>\n",
              "      <td>3.39</td>\n",
              "      <td>0.66</td>\n",
              "      <td>11.0</td>\n",
              "      <td>6</td>\n",
              "    </tr>\n",
              "  </tbody>\n",
              "</table>\n",
              "<p>1599 rows × 12 columns</p>\n",
              "</div>\n",
              "      <button class=\"colab-df-convert\" onclick=\"convertToInteractive('df-b1c26ad2-3bdf-4bda-bc26-3173d5c0663c')\"\n",
              "              title=\"Convert this dataframe to an interactive table.\"\n",
              "              style=\"display:none;\">\n",
              "        \n",
              "  <svg xmlns=\"http://www.w3.org/2000/svg\" height=\"24px\"viewBox=\"0 0 24 24\"\n",
              "       width=\"24px\">\n",
              "    <path d=\"M0 0h24v24H0V0z\" fill=\"none\"/>\n",
              "    <path d=\"M18.56 5.44l.94 2.06.94-2.06 2.06-.94-2.06-.94-.94-2.06-.94 2.06-2.06.94zm-11 1L8.5 8.5l.94-2.06 2.06-.94-2.06-.94L8.5 2.5l-.94 2.06-2.06.94zm10 10l.94 2.06.94-2.06 2.06-.94-2.06-.94-.94-2.06-.94 2.06-2.06.94z\"/><path d=\"M17.41 7.96l-1.37-1.37c-.4-.4-.92-.59-1.43-.59-.52 0-1.04.2-1.43.59L10.3 9.45l-7.72 7.72c-.78.78-.78 2.05 0 2.83L4 21.41c.39.39.9.59 1.41.59.51 0 1.02-.2 1.41-.59l7.78-7.78 2.81-2.81c.8-.78.8-2.07 0-2.86zM5.41 20L4 18.59l7.72-7.72 1.47 1.35L5.41 20z\"/>\n",
              "  </svg>\n",
              "      </button>\n",
              "      \n",
              "  <style>\n",
              "    .colab-df-container {\n",
              "      display:flex;\n",
              "      flex-wrap:wrap;\n",
              "      gap: 12px;\n",
              "    }\n",
              "\n",
              "    .colab-df-convert {\n",
              "      background-color: #E8F0FE;\n",
              "      border: none;\n",
              "      border-radius: 50%;\n",
              "      cursor: pointer;\n",
              "      display: none;\n",
              "      fill: #1967D2;\n",
              "      height: 32px;\n",
              "      padding: 0 0 0 0;\n",
              "      width: 32px;\n",
              "    }\n",
              "\n",
              "    .colab-df-convert:hover {\n",
              "      background-color: #E2EBFA;\n",
              "      box-shadow: 0px 1px 2px rgba(60, 64, 67, 0.3), 0px 1px 3px 1px rgba(60, 64, 67, 0.15);\n",
              "      fill: #174EA6;\n",
              "    }\n",
              "\n",
              "    [theme=dark] .colab-df-convert {\n",
              "      background-color: #3B4455;\n",
              "      fill: #D2E3FC;\n",
              "    }\n",
              "\n",
              "    [theme=dark] .colab-df-convert:hover {\n",
              "      background-color: #434B5C;\n",
              "      box-shadow: 0px 1px 3px 1px rgba(0, 0, 0, 0.15);\n",
              "      filter: drop-shadow(0px 1px 2px rgba(0, 0, 0, 0.3));\n",
              "      fill: #FFFFFF;\n",
              "    }\n",
              "  </style>\n",
              "\n",
              "      <script>\n",
              "        const buttonEl =\n",
              "          document.querySelector('#df-b1c26ad2-3bdf-4bda-bc26-3173d5c0663c button.colab-df-convert');\n",
              "        buttonEl.style.display =\n",
              "          google.colab.kernel.accessAllowed ? 'block' : 'none';\n",
              "\n",
              "        async function convertToInteractive(key) {\n",
              "          const element = document.querySelector('#df-b1c26ad2-3bdf-4bda-bc26-3173d5c0663c');\n",
              "          const dataTable =\n",
              "            await google.colab.kernel.invokeFunction('convertToInteractive',\n",
              "                                                     [key], {});\n",
              "          if (!dataTable) return;\n",
              "\n",
              "          const docLinkHtml = 'Like what you see? Visit the ' +\n",
              "            '<a target=\"_blank\" href=https://colab.research.google.com/notebooks/data_table.ipynb>data table notebook</a>'\n",
              "            + ' to learn more about interactive tables.';\n",
              "          element.innerHTML = '';\n",
              "          dataTable['output_type'] = 'display_data';\n",
              "          await google.colab.output.renderOutput(dataTable, element);\n",
              "          const docLink = document.createElement('div');\n",
              "          docLink.innerHTML = docLinkHtml;\n",
              "          element.appendChild(docLink);\n",
              "        }\n",
              "      </script>\n",
              "    </div>\n",
              "  </div>\n",
              "  "
            ],
            "text/plain": [
              "      fixed_acidity  volatile_acidity  citric_acid  residual_sugar  chlorides  \\\n",
              "0               7.4             0.700         0.00             1.9      0.076   \n",
              "1               7.8             0.880         0.00             2.6      0.098   \n",
              "2               7.8             0.760         0.04             2.3      0.092   \n",
              "3              11.2             0.280         0.56             1.9      0.075   \n",
              "4               7.4             0.700         0.00             1.9      0.076   \n",
              "...             ...               ...          ...             ...        ...   \n",
              "1594            6.2             0.600         0.08             2.0      0.090   \n",
              "1595            5.9             0.550         0.10             2.2      0.062   \n",
              "1596            6.3             0.510         0.13             2.3      0.076   \n",
              "1597            5.9             0.645         0.12             2.0      0.075   \n",
              "1598            6.0             0.310         0.47             3.6      0.067   \n",
              "\n",
              "      free_sulfur_dioxide  total_sulfur_dioxide  density    pH  sulphates  \\\n",
              "0                    11.0                  34.0  0.99780  3.51       0.56   \n",
              "1                    25.0                  67.0  0.99680  3.20       0.68   \n",
              "2                    15.0                  54.0  0.99700  3.26       0.65   \n",
              "3                    17.0                  60.0  0.99800  3.16       0.58   \n",
              "4                    11.0                  34.0  0.99780  3.51       0.56   \n",
              "...                   ...                   ...      ...   ...        ...   \n",
              "1594                 32.0                  44.0  0.99490  3.45       0.58   \n",
              "1595                 39.0                  51.0  0.99512  3.52       0.76   \n",
              "1596                 29.0                  40.0  0.99574  3.42       0.75   \n",
              "1597                 32.0                  44.0  0.99547  3.57       0.71   \n",
              "1598                 18.0                  42.0  0.99549  3.39       0.66   \n",
              "\n",
              "      alcohol  quality  \n",
              "0         9.4        5  \n",
              "1         9.8        5  \n",
              "2         9.8        5  \n",
              "3         9.8        6  \n",
              "4         9.4        5  \n",
              "...       ...      ...  \n",
              "1594     10.5        5  \n",
              "1595     11.2        6  \n",
              "1596     11.0        6  \n",
              "1597     10.2        5  \n",
              "1598     11.0        6  \n",
              "\n",
              "[1599 rows x 12 columns]"
            ]
          },
          "execution_count": 11,
          "metadata": {},
          "output_type": "execute_result"
        }
      ],
      "source": [
        "data = pd.read_csv('winequality-red.csv')\n",
        "data.columns = ['fixed_acidity', 'volatile_acidity', 'citric_acid', 'residual_sugar', 'chlorides'\n",
        "                , 'free_sulfur_dioxide', 'total_sulfur_dioxide', 'density', 'pH', 'sulphates', 'alcohol', 'quality']\n",
        "data"
      ]
    },
    {
      "cell_type": "markdown",
      "id": "b935c8b3",
      "metadata": {
        "id": "b935c8b3",
        "papermill": {
          "duration": 0.051969,
          "end_time": "2022-03-22T02:40:29.859465",
          "exception": false,
          "start_time": "2022-03-22T02:40:29.807496",
          "status": "completed"
        },
        "tags": []
      },
      "source": [
        "Exploratory data analysis and explloring features\n"
      ]
    },
    {
      "cell_type": "code",
      "execution_count": 12,
      "id": "a8425c38",
      "metadata": {
        "colab": {
          "base_uri": "https://localhost:8080/"
        },
        "execution": {
          "iopub.execute_input": "2022-03-22T02:40:29.970096Z",
          "iopub.status.busy": "2022-03-22T02:40:29.969419Z",
          "iopub.status.idle": "2022-03-22T02:40:29.971868Z",
          "shell.execute_reply": "2022-03-22T02:40:29.972466Z",
          "shell.execute_reply.started": "2022-03-22T02:29:16.218020Z"
        },
        "id": "a8425c38",
        "outputId": "ce270b2a-3517-4fe1-deb8-caf543e7a26e",
        "papermill": {
          "duration": 0.061016,
          "end_time": "2022-03-22T02:40:29.972635",
          "exception": false,
          "start_time": "2022-03-22T02:40:29.911619",
          "status": "completed"
        },
        "tags": []
      },
      "outputs": [
        {
          "data": {
            "text/plain": [
              "(1599, 12)"
            ]
          },
          "execution_count": 12,
          "metadata": {},
          "output_type": "execute_result"
        }
      ],
      "source": [
        "data.shape"
      ]
    },
    {
      "cell_type": "code",
      "execution_count": 13,
      "id": "d7e265fe",
      "metadata": {
        "colab": {
          "base_uri": "https://localhost:8080/"
        },
        "execution": {
          "iopub.execute_input": "2022-03-22T02:40:30.086398Z",
          "iopub.status.busy": "2022-03-22T02:40:30.085674Z",
          "iopub.status.idle": "2022-03-22T02:40:30.088386Z",
          "shell.execute_reply": "2022-03-22T02:40:30.088883Z",
          "shell.execute_reply.started": "2022-03-22T02:29:16.226199Z"
        },
        "id": "d7e265fe",
        "outputId": "5c54f238-6ea6-4fd8-852b-8243e97e30af",
        "papermill": {
          "duration": 0.063919,
          "end_time": "2022-03-22T02:40:30.089059",
          "exception": false,
          "start_time": "2022-03-22T02:40:30.025140",
          "status": "completed"
        },
        "tags": []
      },
      "outputs": [
        {
          "data": {
            "text/plain": [
              "fixed_acidity           float64\n",
              "volatile_acidity        float64\n",
              "citric_acid             float64\n",
              "residual_sugar          float64\n",
              "chlorides               float64\n",
              "free_sulfur_dioxide     float64\n",
              "total_sulfur_dioxide    float64\n",
              "density                 float64\n",
              "pH                      float64\n",
              "sulphates               float64\n",
              "alcohol                 float64\n",
              "quality                   int64\n",
              "dtype: object"
            ]
          },
          "execution_count": 13,
          "metadata": {},
          "output_type": "execute_result"
        }
      ],
      "source": [
        "#Check datatypes of each columns\n",
        "data.dtypes"
      ]
    },
    {
      "cell_type": "code",
      "execution_count": 15,
      "id": "659f2fb7",
      "metadata": {
        "colab": {
          "base_uri": "https://localhost:8080/"
        },
        "execution": {
          "iopub.execute_input": "2022-03-22T02:40:30.383743Z",
          "iopub.status.busy": "2022-03-22T02:40:30.383021Z",
          "iopub.status.idle": "2022-03-22T02:40:30.396339Z",
          "shell.execute_reply": "2022-03-22T02:40:30.397070Z",
          "shell.execute_reply.started": "2022-03-22T02:29:16.304847Z"
        },
        "id": "659f2fb7",
        "outputId": "85122d95-905c-403c-a706-912595dc3781",
        "papermill": {
          "duration": 0.073512,
          "end_time": "2022-03-22T02:40:30.397345",
          "exception": false,
          "start_time": "2022-03-22T02:40:30.323833",
          "status": "completed"
        },
        "tags": []
      },
      "outputs": [
        {
          "name": "stdout",
          "output_type": "stream",
          "text": [
            "<class 'pandas.core.frame.DataFrame'>\n",
            "RangeIndex: 1599 entries, 0 to 1598\n",
            "Data columns (total 12 columns):\n",
            " #   Column                Non-Null Count  Dtype  \n",
            "---  ------                --------------  -----  \n",
            " 0   fixed_acidity         1599 non-null   float64\n",
            " 1   volatile_acidity      1599 non-null   float64\n",
            " 2   citric_acid           1599 non-null   float64\n",
            " 3   residual_sugar        1599 non-null   float64\n",
            " 4   chlorides             1599 non-null   float64\n",
            " 5   free_sulfur_dioxide   1599 non-null   float64\n",
            " 6   total_sulfur_dioxide  1599 non-null   float64\n",
            " 7   density               1599 non-null   float64\n",
            " 8   pH                    1599 non-null   float64\n",
            " 9   sulphates             1599 non-null   float64\n",
            " 10  alcohol               1599 non-null   float64\n",
            " 11  quality               1599 non-null   int64  \n",
            "dtypes: float64(11), int64(1)\n",
            "memory usage: 150.0 KB\n"
          ]
        }
      ],
      "source": [
        "data.info()"
      ]
    },
    {
      "cell_type": "code",
      "execution_count": 14,
      "id": "fba6f598",
      "metadata": {
        "colab": {
          "base_uri": "https://localhost:8080/",
          "height": 364
        },
        "execution": {
          "iopub.execute_input": "2022-03-22T02:40:30.209528Z",
          "iopub.status.busy": "2022-03-22T02:40:30.208802Z",
          "iopub.status.idle": "2022-03-22T02:40:30.268668Z",
          "shell.execute_reply": "2022-03-22T02:40:30.268090Z",
          "shell.execute_reply.started": "2022-03-22T02:29:16.239653Z"
        },
        "id": "fba6f598",
        "outputId": "be20401b-8840-45c0-e907-fd0c75db646f",
        "papermill": {
          "duration": 0.126735,
          "end_time": "2022-03-22T02:40:30.268822",
          "exception": false,
          "start_time": "2022-03-22T02:40:30.142087",
          "status": "completed"
        },
        "tags": []
      },
      "outputs": [
        {
          "data": {
            "text/html": [
              "\n",
              "  <div id=\"df-a8e83f47-9067-456e-988d-7c402dbd4ab0\">\n",
              "    <div class=\"colab-df-container\">\n",
              "      <div>\n",
              "<style scoped>\n",
              "    .dataframe tbody tr th:only-of-type {\n",
              "        vertical-align: middle;\n",
              "    }\n",
              "\n",
              "    .dataframe tbody tr th {\n",
              "        vertical-align: top;\n",
              "    }\n",
              "\n",
              "    .dataframe thead th {\n",
              "        text-align: right;\n",
              "    }\n",
              "</style>\n",
              "<table border=\"1\" class=\"dataframe\">\n",
              "  <thead>\n",
              "    <tr style=\"text-align: right;\">\n",
              "      <th></th>\n",
              "      <th>fixed_acidity</th>\n",
              "      <th>volatile_acidity</th>\n",
              "      <th>citric_acid</th>\n",
              "      <th>residual_sugar</th>\n",
              "      <th>chlorides</th>\n",
              "      <th>free_sulfur_dioxide</th>\n",
              "      <th>total_sulfur_dioxide</th>\n",
              "      <th>density</th>\n",
              "      <th>pH</th>\n",
              "      <th>sulphates</th>\n",
              "      <th>alcohol</th>\n",
              "      <th>quality</th>\n",
              "    </tr>\n",
              "  </thead>\n",
              "  <tbody>\n",
              "    <tr>\n",
              "      <th>count</th>\n",
              "      <td>1599.000000</td>\n",
              "      <td>1599.000000</td>\n",
              "      <td>1599.000000</td>\n",
              "      <td>1599.000000</td>\n",
              "      <td>1599.000000</td>\n",
              "      <td>1599.000000</td>\n",
              "      <td>1599.000000</td>\n",
              "      <td>1599.000000</td>\n",
              "      <td>1599.000000</td>\n",
              "      <td>1599.000000</td>\n",
              "      <td>1599.000000</td>\n",
              "      <td>1599.000000</td>\n",
              "    </tr>\n",
              "    <tr>\n",
              "      <th>mean</th>\n",
              "      <td>8.319637</td>\n",
              "      <td>0.527821</td>\n",
              "      <td>0.270976</td>\n",
              "      <td>2.538806</td>\n",
              "      <td>0.087467</td>\n",
              "      <td>15.874922</td>\n",
              "      <td>46.467792</td>\n",
              "      <td>0.996747</td>\n",
              "      <td>3.311113</td>\n",
              "      <td>0.658149</td>\n",
              "      <td>10.422983</td>\n",
              "      <td>5.636023</td>\n",
              "    </tr>\n",
              "    <tr>\n",
              "      <th>std</th>\n",
              "      <td>1.741096</td>\n",
              "      <td>0.179060</td>\n",
              "      <td>0.194801</td>\n",
              "      <td>1.409928</td>\n",
              "      <td>0.047065</td>\n",
              "      <td>10.460157</td>\n",
              "      <td>32.895324</td>\n",
              "      <td>0.001887</td>\n",
              "      <td>0.154386</td>\n",
              "      <td>0.169507</td>\n",
              "      <td>1.065668</td>\n",
              "      <td>0.807569</td>\n",
              "    </tr>\n",
              "    <tr>\n",
              "      <th>min</th>\n",
              "      <td>4.600000</td>\n",
              "      <td>0.120000</td>\n",
              "      <td>0.000000</td>\n",
              "      <td>0.900000</td>\n",
              "      <td>0.012000</td>\n",
              "      <td>1.000000</td>\n",
              "      <td>6.000000</td>\n",
              "      <td>0.990070</td>\n",
              "      <td>2.740000</td>\n",
              "      <td>0.330000</td>\n",
              "      <td>8.400000</td>\n",
              "      <td>3.000000</td>\n",
              "    </tr>\n",
              "    <tr>\n",
              "      <th>25%</th>\n",
              "      <td>7.100000</td>\n",
              "      <td>0.390000</td>\n",
              "      <td>0.090000</td>\n",
              "      <td>1.900000</td>\n",
              "      <td>0.070000</td>\n",
              "      <td>7.000000</td>\n",
              "      <td>22.000000</td>\n",
              "      <td>0.995600</td>\n",
              "      <td>3.210000</td>\n",
              "      <td>0.550000</td>\n",
              "      <td>9.500000</td>\n",
              "      <td>5.000000</td>\n",
              "    </tr>\n",
              "    <tr>\n",
              "      <th>50%</th>\n",
              "      <td>7.900000</td>\n",
              "      <td>0.520000</td>\n",
              "      <td>0.260000</td>\n",
              "      <td>2.200000</td>\n",
              "      <td>0.079000</td>\n",
              "      <td>14.000000</td>\n",
              "      <td>38.000000</td>\n",
              "      <td>0.996750</td>\n",
              "      <td>3.310000</td>\n",
              "      <td>0.620000</td>\n",
              "      <td>10.200000</td>\n",
              "      <td>6.000000</td>\n",
              "    </tr>\n",
              "    <tr>\n",
              "      <th>75%</th>\n",
              "      <td>9.200000</td>\n",
              "      <td>0.640000</td>\n",
              "      <td>0.420000</td>\n",
              "      <td>2.600000</td>\n",
              "      <td>0.090000</td>\n",
              "      <td>21.000000</td>\n",
              "      <td>62.000000</td>\n",
              "      <td>0.997835</td>\n",
              "      <td>3.400000</td>\n",
              "      <td>0.730000</td>\n",
              "      <td>11.100000</td>\n",
              "      <td>6.000000</td>\n",
              "    </tr>\n",
              "    <tr>\n",
              "      <th>max</th>\n",
              "      <td>15.900000</td>\n",
              "      <td>1.580000</td>\n",
              "      <td>1.000000</td>\n",
              "      <td>15.500000</td>\n",
              "      <td>0.611000</td>\n",
              "      <td>72.000000</td>\n",
              "      <td>289.000000</td>\n",
              "      <td>1.003690</td>\n",
              "      <td>4.010000</td>\n",
              "      <td>2.000000</td>\n",
              "      <td>14.900000</td>\n",
              "      <td>8.000000</td>\n",
              "    </tr>\n",
              "  </tbody>\n",
              "</table>\n",
              "</div>\n",
              "      <button class=\"colab-df-convert\" onclick=\"convertToInteractive('df-a8e83f47-9067-456e-988d-7c402dbd4ab0')\"\n",
              "              title=\"Convert this dataframe to an interactive table.\"\n",
              "              style=\"display:none;\">\n",
              "        \n",
              "  <svg xmlns=\"http://www.w3.org/2000/svg\" height=\"24px\"viewBox=\"0 0 24 24\"\n",
              "       width=\"24px\">\n",
              "    <path d=\"M0 0h24v24H0V0z\" fill=\"none\"/>\n",
              "    <path d=\"M18.56 5.44l.94 2.06.94-2.06 2.06-.94-2.06-.94-.94-2.06-.94 2.06-2.06.94zm-11 1L8.5 8.5l.94-2.06 2.06-.94-2.06-.94L8.5 2.5l-.94 2.06-2.06.94zm10 10l.94 2.06.94-2.06 2.06-.94-2.06-.94-.94-2.06-.94 2.06-2.06.94z\"/><path d=\"M17.41 7.96l-1.37-1.37c-.4-.4-.92-.59-1.43-.59-.52 0-1.04.2-1.43.59L10.3 9.45l-7.72 7.72c-.78.78-.78 2.05 0 2.83L4 21.41c.39.39.9.59 1.41.59.51 0 1.02-.2 1.41-.59l7.78-7.78 2.81-2.81c.8-.78.8-2.07 0-2.86zM5.41 20L4 18.59l7.72-7.72 1.47 1.35L5.41 20z\"/>\n",
              "  </svg>\n",
              "      </button>\n",
              "      \n",
              "  <style>\n",
              "    .colab-df-container {\n",
              "      display:flex;\n",
              "      flex-wrap:wrap;\n",
              "      gap: 12px;\n",
              "    }\n",
              "\n",
              "    .colab-df-convert {\n",
              "      background-color: #E8F0FE;\n",
              "      border: none;\n",
              "      border-radius: 50%;\n",
              "      cursor: pointer;\n",
              "      display: none;\n",
              "      fill: #1967D2;\n",
              "      height: 32px;\n",
              "      padding: 0 0 0 0;\n",
              "      width: 32px;\n",
              "    }\n",
              "\n",
              "    .colab-df-convert:hover {\n",
              "      background-color: #E2EBFA;\n",
              "      box-shadow: 0px 1px 2px rgba(60, 64, 67, 0.3), 0px 1px 3px 1px rgba(60, 64, 67, 0.15);\n",
              "      fill: #174EA6;\n",
              "    }\n",
              "\n",
              "    [theme=dark] .colab-df-convert {\n",
              "      background-color: #3B4455;\n",
              "      fill: #D2E3FC;\n",
              "    }\n",
              "\n",
              "    [theme=dark] .colab-df-convert:hover {\n",
              "      background-color: #434B5C;\n",
              "      box-shadow: 0px 1px 3px 1px rgba(0, 0, 0, 0.15);\n",
              "      filter: drop-shadow(0px 1px 2px rgba(0, 0, 0, 0.3));\n",
              "      fill: #FFFFFF;\n",
              "    }\n",
              "  </style>\n",
              "\n",
              "      <script>\n",
              "        const buttonEl =\n",
              "          document.querySelector('#df-a8e83f47-9067-456e-988d-7c402dbd4ab0 button.colab-df-convert');\n",
              "        buttonEl.style.display =\n",
              "          google.colab.kernel.accessAllowed ? 'block' : 'none';\n",
              "\n",
              "        async function convertToInteractive(key) {\n",
              "          const element = document.querySelector('#df-a8e83f47-9067-456e-988d-7c402dbd4ab0');\n",
              "          const dataTable =\n",
              "            await google.colab.kernel.invokeFunction('convertToInteractive',\n",
              "                                                     [key], {});\n",
              "          if (!dataTable) return;\n",
              "\n",
              "          const docLinkHtml = 'Like what you see? Visit the ' +\n",
              "            '<a target=\"_blank\" href=https://colab.research.google.com/notebooks/data_table.ipynb>data table notebook</a>'\n",
              "            + ' to learn more about interactive tables.';\n",
              "          element.innerHTML = '';\n",
              "          dataTable['output_type'] = 'display_data';\n",
              "          await google.colab.output.renderOutput(dataTable, element);\n",
              "          const docLink = document.createElement('div');\n",
              "          docLink.innerHTML = docLinkHtml;\n",
              "          element.appendChild(docLink);\n",
              "        }\n",
              "      </script>\n",
              "    </div>\n",
              "  </div>\n",
              "  "
            ],
            "text/plain": [
              "       fixed_acidity  volatile_acidity  citric_acid  residual_sugar  \\\n",
              "count    1599.000000       1599.000000  1599.000000     1599.000000   \n",
              "mean        8.319637          0.527821     0.270976        2.538806   \n",
              "std         1.741096          0.179060     0.194801        1.409928   \n",
              "min         4.600000          0.120000     0.000000        0.900000   \n",
              "25%         7.100000          0.390000     0.090000        1.900000   \n",
              "50%         7.900000          0.520000     0.260000        2.200000   \n",
              "75%         9.200000          0.640000     0.420000        2.600000   \n",
              "max        15.900000          1.580000     1.000000       15.500000   \n",
              "\n",
              "         chlorides  free_sulfur_dioxide  total_sulfur_dioxide      density  \\\n",
              "count  1599.000000          1599.000000           1599.000000  1599.000000   \n",
              "mean      0.087467            15.874922             46.467792     0.996747   \n",
              "std       0.047065            10.460157             32.895324     0.001887   \n",
              "min       0.012000             1.000000              6.000000     0.990070   \n",
              "25%       0.070000             7.000000             22.000000     0.995600   \n",
              "50%       0.079000            14.000000             38.000000     0.996750   \n",
              "75%       0.090000            21.000000             62.000000     0.997835   \n",
              "max       0.611000            72.000000            289.000000     1.003690   \n",
              "\n",
              "                pH    sulphates      alcohol      quality  \n",
              "count  1599.000000  1599.000000  1599.000000  1599.000000  \n",
              "mean      3.311113     0.658149    10.422983     5.636023  \n",
              "std       0.154386     0.169507     1.065668     0.807569  \n",
              "min       2.740000     0.330000     8.400000     3.000000  \n",
              "25%       3.210000     0.550000     9.500000     5.000000  \n",
              "50%       3.310000     0.620000    10.200000     6.000000  \n",
              "75%       3.400000     0.730000    11.100000     6.000000  \n",
              "max       4.010000     2.000000    14.900000     8.000000  "
            ]
          },
          "execution_count": 14,
          "metadata": {},
          "output_type": "execute_result"
        }
      ],
      "source": [
        "data.describe()"
      ]
    },
    {
      "cell_type": "code",
      "execution_count": 17,
      "id": "00de6bae",
      "metadata": {
        "colab": {
          "base_uri": "https://localhost:8080/"
        },
        "execution": {
          "iopub.execute_input": "2022-03-22T02:40:30.510016Z",
          "iopub.status.busy": "2022-03-22T02:40:30.509417Z",
          "iopub.status.idle": "2022-03-22T02:40:30.516545Z",
          "shell.execute_reply": "2022-03-22T02:40:30.517151Z",
          "shell.execute_reply.started": "2022-03-22T02:29:16.324236Z"
        },
        "id": "00de6bae",
        "outputId": "23104087-8885-4568-9b4f-01f586220e8f",
        "papermill": {
          "duration": 0.064484,
          "end_time": "2022-03-22T02:40:30.517334",
          "exception": false,
          "start_time": "2022-03-22T02:40:30.452850",
          "status": "completed"
        },
        "tags": []
      },
      "outputs": [
        {
          "data": {
            "text/plain": [
              "fixed_acidity           0\n",
              "volatile_acidity        0\n",
              "citric_acid             0\n",
              "residual_sugar          0\n",
              "chlorides               0\n",
              "free_sulfur_dioxide     0\n",
              "total_sulfur_dioxide    0\n",
              "density                 0\n",
              "pH                      0\n",
              "sulphates               0\n",
              "alcohol                 0\n",
              "quality                 0\n",
              "dtype: int64"
            ]
          },
          "execution_count": 17,
          "metadata": {},
          "output_type": "execute_result"
        }
      ],
      "source": [
        "data.isnull().sum()"
      ]
    },
    {
      "cell_type": "code",
      "execution_count": 18,
      "id": "b9c77e1b",
      "metadata": {
        "colab": {
          "base_uri": "https://localhost:8080/"
        },
        "execution": {
          "iopub.execute_input": "2022-03-22T02:40:30.739201Z",
          "iopub.status.busy": "2022-03-22T02:40:30.738579Z",
          "iopub.status.idle": "2022-03-22T02:40:30.743501Z",
          "shell.execute_reply": "2022-03-22T02:40:30.744039Z",
          "shell.execute_reply.started": "2022-03-22T02:29:16.335792Z"
        },
        "id": "b9c77e1b",
        "outputId": "edb12dda-a8e8-4fab-cd2a-6fa69bf43f4f",
        "papermill": {
          "duration": 0.063272,
          "end_time": "2022-03-22T02:40:30.744209",
          "exception": false,
          "start_time": "2022-03-22T02:40:30.680937",
          "status": "completed"
        },
        "tags": []
      },
      "outputs": [
        {
          "data": {
            "text/plain": [
              "array([5, 6, 7, 4, 8, 3])"
            ]
          },
          "execution_count": 18,
          "metadata": {},
          "output_type": "execute_result"
        }
      ],
      "source": [
        "#unique/distinct values in quality column\n",
        "data.quality.unique()"
      ]
    },
    {
      "cell_type": "code",
      "execution_count": 19,
      "id": "78d3d304",
      "metadata": {
        "colab": {
          "base_uri": "https://localhost:8080/"
        },
        "execution": {
          "iopub.execute_input": "2022-03-22T02:40:30.858652Z",
          "iopub.status.busy": "2022-03-22T02:40:30.858020Z",
          "iopub.status.idle": "2022-03-22T02:40:30.863821Z",
          "shell.execute_reply": "2022-03-22T02:40:30.864298Z",
          "shell.execute_reply.started": "2022-03-22T02:29:16.342530Z"
        },
        "id": "78d3d304",
        "outputId": "517c186d-48bd-42af-b9b4-8d6b7e7c3f3f",
        "papermill": {
          "duration": 0.064413,
          "end_time": "2022-03-22T02:40:30.864484",
          "exception": false,
          "start_time": "2022-03-22T02:40:30.800071",
          "status": "completed"
        },
        "tags": []
      },
      "outputs": [
        {
          "data": {
            "text/plain": [
              "5    681\n",
              "6    638\n",
              "7    199\n",
              "4     53\n",
              "8     18\n",
              "3     10\n",
              "Name: quality, dtype: int64"
            ]
          },
          "execution_count": 19,
          "metadata": {},
          "output_type": "execute_result"
        }
      ],
      "source": [
        "#total number of values for each quality rating\n",
        "data.quality.value_counts()"
      ]
    },
    {
      "cell_type": "code",
      "execution_count": 20,
      "id": "323888b6",
      "metadata": {
        "colab": {
          "base_uri": "https://localhost:8080/"
        },
        "execution": {
          "iopub.execute_input": "2022-03-22T02:40:30.980213Z",
          "iopub.status.busy": "2022-03-22T02:40:30.979575Z",
          "iopub.status.idle": "2022-03-22T02:40:30.989026Z",
          "shell.execute_reply": "2022-03-22T02:40:30.989551Z",
          "shell.execute_reply.started": "2022-03-22T02:29:16.358008Z"
        },
        "id": "323888b6",
        "outputId": "93cd0bc6-af17-460c-991e-36a34346a150",
        "papermill": {
          "duration": 0.06837,
          "end_time": "2022-03-22T02:40:30.989743",
          "exception": false,
          "start_time": "2022-03-22T02:40:30.921373",
          "status": "completed"
        },
        "tags": []
      },
      "outputs": [
        {
          "data": {
            "text/plain": [
              "fixed_acidity           0.124052\n",
              "volatile_acidity       -0.390558\n",
              "citric_acid             0.226373\n",
              "residual_sugar          0.013732\n",
              "chlorides              -0.128907\n",
              "free_sulfur_dioxide    -0.050656\n",
              "total_sulfur_dioxide   -0.185100\n",
              "density                -0.174919\n",
              "pH                     -0.057731\n",
              "sulphates               0.251397\n",
              "alcohol                 0.476166\n",
              "quality                 1.000000\n",
              "Name: quality, dtype: float64"
            ]
          },
          "execution_count": 20,
          "metadata": {},
          "output_type": "execute_result"
        }
      ],
      "source": [
        "#correlation of every feature with respect to the quality of the wine.\n",
        "data.corr()['quality']"
      ]
    },
    {
      "cell_type": "markdown",
      "id": "8297ef01",
      "metadata": {
        "id": "8297ef01",
        "papermill": {
          "duration": 0.055772,
          "end_time": "2022-03-22T02:40:31.101819",
          "exception": false,
          "start_time": "2022-03-22T02:40:31.046047",
          "status": "completed"
        },
        "tags": []
      },
      "source": [
        "<h3>Heat Map of Correlation Matrix</h3>"
      ]
    },
    {
      "cell_type": "code",
      "execution_count": 26,
      "id": "7068f344",
      "metadata": {
        "colab": {
          "base_uri": "https://localhost:8080/",
          "height": 683
        },
        "execution": {
          "iopub.execute_input": "2022-03-22T02:40:31.219208Z",
          "iopub.status.busy": "2022-03-22T02:40:31.218552Z",
          "iopub.status.idle": "2022-03-22T02:40:32.175760Z",
          "shell.execute_reply": "2022-03-22T02:40:32.176276Z",
          "shell.execute_reply.started": "2022-03-22T02:29:16.371504Z"
        },
        "id": "7068f344",
        "outputId": "3ab10a5e-d132-4795-a3a7-e12d3527b4c8",
        "papermill": {
          "duration": 1.018254,
          "end_time": "2022-03-22T02:40:32.176468",
          "exception": false,
          "start_time": "2022-03-22T02:40:31.158214",
          "status": "completed"
        },
        "tags": []
      },
      "outputs": [
        {
          "data": {
            "image/png": "[encoded data removed]",
            "text/plain": [
              "<Figure size 720x720 with 2 Axes>"
            ]
          },
          "metadata": {
            "needs_background": "light"
          },
          "output_type": "display_data"
        }
      ],
      "source": [
        "plt.figure(figsize=(10,10))\n",
        "sns.heatmap(data.corr(),annot=True,linewidth=0.5,center=0,cmap='magma')\n",
        "plt.show()"
      ]
    },
    {
      "cell_type": "code",
      "execution_count": 27,
      "id": "b171b817",
      "metadata": {
        "colab": {
          "base_uri": "https://localhost:8080/",
          "height": 295
        },
        "execution": {
          "iopub.execute_input": "2022-03-22T02:40:32.316646Z",
          "iopub.status.busy": "2022-03-22T02:40:32.315953Z",
          "iopub.status.idle": "2022-03-22T02:40:32.506586Z",
          "shell.execute_reply": "2022-03-22T02:40:32.506047Z",
          "shell.execute_reply.started": "2022-03-22T02:29:17.265492Z"
        },
        "id": "b171b817",
        "outputId": "53b57362-b6a8-41f6-f8bf-c4c6034ec5aa",
        "papermill": {
          "duration": 0.266559,
          "end_time": "2022-03-22T02:40:32.506744",
          "exception": false,
          "start_time": "2022-03-22T02:40:32.240185",
          "status": "completed"
        },
        "tags": []
      },
      "outputs": [
        {
          "data": {
            "image/png": "[encoded data removed]",
            "text/plain": [
              "<Figure size 432x288 with 1 Axes>"
            ]
          },
          "metadata": {
            "needs_background": "light"
          },
          "output_type": "display_data"
        }
      ],
      "source": [
        "plt.hist(data.quality,bins=6,alpha=0.5,histtype='bar',ec='black')\n",
        "plt.title('Distribution of the Quality')\n",
        "plt.xlabel('Quality')\n",
        "plt.ylabel('Count')\n",
        "plt.show()"
      ]
    },
    {
      "cell_type": "markdown",
      "id": "faa61cac",
      "metadata": {
        "id": "faa61cac",
        "papermill": {
          "duration": 0.060565,
          "end_time": "2022-03-22T02:40:32.628228",
          "exception": false,
          "start_time": "2022-03-22T02:40:32.567663",
          "status": "completed"
        },
        "tags": []
      },
      "source": [
        "The above plot shows the distribution of the quality of the wine in the dataset, and represents that most of the wine is of average quality i.e. quality ranging from 5 to 7 ."
      ]
    },
    {
      "cell_type": "code",
      "execution_count": 28,
      "id": "a52ec929",
      "metadata": {
        "colab": {
          "base_uri": "https://localhost:8080/",
          "height": 295
        },
        "execution": {
          "iopub.execute_input": "2022-03-22T02:40:32.754807Z",
          "iopub.status.busy": "2022-03-22T02:40:32.754085Z",
          "iopub.status.idle": "2022-03-22T02:40:33.005699Z",
          "shell.execute_reply": "2022-03-22T02:40:33.006210Z",
          "shell.execute_reply.started": "2022-03-22T02:29:17.407551Z"
        },
        "id": "a52ec929",
        "outputId": "4ee3e92b-5f33-4e83-88c0-24d0869fc6e6",
        "papermill": {
          "duration": 0.317604,
          "end_time": "2022-03-22T02:40:33.006407",
          "exception": false,
          "start_time": "2022-03-22T02:40:32.688803",
          "status": "completed"
        },
        "tags": []
      },
      "outputs": [
        {
          "data": {
            "image/png": "[encoded data removed]",
            "text/plain": [
              "<Figure size 432x288 with 1 Axes>"
            ]
          },
          "metadata": {
            "needs_background": "light"
          },
          "output_type": "display_data"
        }
      ],
      "source": [
        "sns.boxplot(x='quality',y='pH',data=data,palette='mako')\n",
        "plt.title(\"Boxplot of Quality and pH\")\n",
        "plt.show()"
      ]
    },
    {
      "cell_type": "code",
      "execution_count": 29,
      "id": "a4e16a5f",
      "metadata": {
        "colab": {
          "base_uri": "https://localhost:8080/",
          "height": 295
        },
        "execution": {
          "iopub.execute_input": "2022-03-22T02:40:33.137048Z",
          "iopub.status.busy": "2022-03-22T02:40:33.136398Z",
          "iopub.status.idle": "2022-03-22T02:40:33.391719Z",
          "shell.execute_reply": "2022-03-22T02:40:33.391073Z",
          "shell.execute_reply.started": "2022-03-22T02:29:17.637419Z"
        },
        "id": "a4e16a5f",
        "outputId": "485ad310-782c-48ba-c5ba-c3c32fab76c5",
        "papermill": {
          "duration": 0.323037,
          "end_time": "2022-03-22T02:40:33.391859",
          "exception": false,
          "start_time": "2022-03-22T02:40:33.068822",
          "status": "completed"
        },
        "tags": []
      },
      "outputs": [
        {
          "data": {
            "image/png": "[encoded data removed]",
            "text/plain": [
              "<Figure size 432x288 with 1 Axes>"
            ]
          },
          "metadata": {
            "needs_background": "light"
          },
          "output_type": "display_data"
        }
      ],
      "source": [
        "ax = sns.boxplot(x='quality',y='alcohol',data=data,palette='inferno')\n",
        "plt.title(\"Boxplot of Quality and Alcohol\")\n",
        "plt.show()"
      ]
    },
    {
      "cell_type": "markdown",
      "id": "bf984dec",
      "metadata": {
        "id": "bf984dec",
        "papermill": {
          "duration": 0.063029,
          "end_time": "2022-03-22T02:40:33.518293",
          "exception": false,
          "start_time": "2022-03-22T02:40:33.455264",
          "status": "completed"
        },
        "tags": []
      },
      "source": [
        "The boxplot above depicts the rise in wine quality as alcohol content increases. The amount of alcohol in the wine directly correlates to its quality. The higher the alcohol content of a wine, the higher its quality. In contrast, it exhibits a modest reduction in pH scale with acceptable quality."
      ]
    },
    {
      "cell_type": "code",
      "execution_count": 30,
      "id": "d7c48540",
      "metadata": {
        "colab": {
          "base_uri": "https://localhost:8080/",
          "height": 295
        },
        "execution": {
          "iopub.execute_input": "2022-03-22T02:40:33.651519Z",
          "iopub.status.busy": "2022-03-22T02:40:33.650446Z",
          "iopub.status.idle": "2022-03-22T02:40:33.903399Z",
          "shell.execute_reply": "2022-03-22T02:40:33.903925Z",
          "shell.execute_reply.started": "2022-03-22T02:29:17.877535Z"
        },
        "id": "d7c48540",
        "outputId": "c9950988-e25f-4faa-ae12-8da154fe0e3e",
        "papermill": {
          "duration": 0.323131,
          "end_time": "2022-03-22T02:40:33.904097",
          "exception": false,
          "start_time": "2022-03-22T02:40:33.580966",
          "status": "completed"
        },
        "tags": []
      },
      "outputs": [
        {
          "data": {
            "image/png": "[encoded data removed]",
            "text/plain": [
              "<Figure size 432x288 with 1 Axes>"
            ]
          },
          "metadata": {
            "needs_background": "light"
          },
          "output_type": "display_data"
        }
      ],
      "source": [
        "sns.boxplot(x=\"quality\",y=\"residual_sugar\",data=data,palette=\"viridis\")\n",
        "plt.title(\"Boxplot of Quality and residual sugar\")\n",
        "plt.show()"
      ]
    },
    {
      "cell_type": "markdown",
      "id": "2eb19ea1",
      "metadata": {
        "id": "2eb19ea1",
        "papermill": {
          "duration": 0.064195,
          "end_time": "2022-03-22T02:40:34.032334",
          "exception": false,
          "start_time": "2022-03-22T02:40:33.968139",
          "status": "completed"
        },
        "tags": []
      },
      "source": [
        "Not much effect is noted of sugar residual on quality."
      ]
    },
    {
      "cell_type": "code",
      "execution_count": 31,
      "id": "1640fdd0",
      "metadata": {
        "colab": {
          "base_uri": "https://localhost:8080/",
          "height": 295
        },
        "execution": {
          "iopub.execute_input": "2022-03-22T02:40:34.162216Z",
          "iopub.status.busy": "2022-03-22T02:40:34.161539Z",
          "iopub.status.idle": "2022-03-22T02:40:34.418189Z",
          "shell.execute_reply": "2022-03-22T02:40:34.418800Z",
          "shell.execute_reply.started": "2022-03-22T02:29:18.111690Z"
        },
        "id": "1640fdd0",
        "outputId": "9abb1e37-e5df-496b-b0c8-7d067f4dcf34",
        "papermill": {
          "duration": 0.323159,
          "end_time": "2022-03-22T02:40:34.418992",
          "exception": false,
          "start_time": "2022-03-22T02:40:34.095833",
          "status": "completed"
        },
        "tags": []
      },
      "outputs": [
        {
          "data": {
            "image/png": "[encoded data removed]",
            "text/plain": [
              "<Figure size 432x288 with 1 Axes>"
            ]
          },
          "metadata": {
            "needs_background": "light"
          },
          "output_type": "display_data"
        }
      ],
      "source": [
        "sns.boxplot(x=\"quality\",y=\"density\",data=data,palette=\"coolwarm\")\n",
        "plt.title(\"Boxplot of Quality and Density\")\n",
        "plt.show()"
      ]
    },
    {
      "cell_type": "markdown",
      "id": "7cce2501",
      "metadata": {
        "id": "7cce2501",
        "papermill": {
          "duration": 0.064395,
          "end_time": "2022-03-22T02:40:34.547596",
          "exception": false,
          "start_time": "2022-03-22T02:40:34.483201",
          "status": "completed"
        },
        "tags": []
      },
      "source": [
        "The lower the density of the wine, the greater the quality of the wine. We can see from the above boxplot that the quality of wine rises as density decreases."
      ]
    },
    {
      "cell_type": "code",
      "execution_count": 32,
      "id": "df51b6fa",
      "metadata": {
        "colab": {
          "base_uri": "https://localhost:8080/",
          "height": 295
        },
        "execution": {
          "iopub.execute_input": "2022-03-22T02:40:34.681922Z",
          "iopub.status.busy": "2022-03-22T02:40:34.681144Z",
          "iopub.status.idle": "2022-03-22T02:40:34.939568Z",
          "shell.execute_reply": "2022-03-22T02:40:34.940128Z",
          "shell.execute_reply.started": "2022-03-22T02:29:18.347606Z"
        },
        "id": "df51b6fa",
        "outputId": "0478f5ad-c863-434f-ee3f-72a0905c04d2",
        "papermill": {
          "duration": 0.326048,
          "end_time": "2022-03-22T02:40:34.940320",
          "exception": false,
          "start_time": "2022-03-22T02:40:34.614272",
          "status": "completed"
        },
        "tags": []
      },
      "outputs": [
        {
          "data": {
            "image/png": "[encoded data removed]",
            "text/plain": [
              "<Figure size 432x288 with 1 Axes>"
            ]
          },
          "metadata": {
            "needs_background": "light"
          },
          "output_type": "display_data"
        }
      ],
      "source": [
        "sns.boxplot(x=\"quality\",y=\"sulphates\",data=data,palette=\"rocket_r\")\n",
        "plt.title(\"Boxplot of Quality and Sulphates\")\n",
        "plt.show()"
      ]
    },
    {
      "cell_type": "markdown",
      "id": "581fecd8",
      "metadata": {
        "id": "581fecd8",
        "papermill": {
          "duration": 0.067494,
          "end_time": "2022-03-22T02:40:35.073010",
          "exception": false,
          "start_time": "2022-03-22T02:40:35.005516",
          "status": "completed"
        },
        "tags": []
      },
      "source": [
        "The figure above shows that the number of sulphates in the wine enhances the quality of the alcohol."
      ]
    },
    {
      "cell_type": "code",
      "execution_count": 33,
      "id": "365e93eb",
      "metadata": {
        "colab": {
          "base_uri": "https://localhost:8080/",
          "height": 295
        },
        "execution": {
          "iopub.execute_input": "2022-03-22T02:40:35.209459Z",
          "iopub.status.busy": "2022-03-22T02:40:35.208722Z",
          "iopub.status.idle": "2022-03-22T02:40:35.456701Z",
          "shell.execute_reply": "2022-03-22T02:40:35.457232Z",
          "shell.execute_reply.started": "2022-03-22T02:29:18.585405Z"
        },
        "id": "365e93eb",
        "outputId": "9192ac92-e6e3-4897-a3ff-53efa64fd392",
        "papermill": {
          "duration": 0.317963,
          "end_time": "2022-03-22T02:40:35.457421",
          "exception": false,
          "start_time": "2022-03-22T02:40:35.139458",
          "status": "completed"
        },
        "tags": []
      },
      "outputs": [
        {
          "data": {
            "image/png": "[encoded data removed]",
            "text/plain": [
              "<Figure size 432x288 with 1 Axes>"
            ]
          },
          "metadata": {
            "needs_background": "light"
          },
          "output_type": "display_data"
        }
      ],
      "source": [
        "sns.boxplot(x=\"quality\",y=\"chlorides\",data=data,palette=\"cubehelix\")\n",
        "plt.title(\"Boxplot of Quality and Chlorides\")\n",
        "plt.show()"
      ]
    },
    {
      "cell_type": "markdown",
      "id": "32d71c8f",
      "metadata": {
        "id": "32d71c8f",
        "papermill": {
          "duration": 0.066788,
          "end_time": "2022-03-22T02:40:35.591047",
          "exception": false,
          "start_time": "2022-03-22T02:40:35.524259",
          "status": "completed"
        },
        "tags": []
      },
      "source": [
        "Not much effect in the quality of wine for a particular amount of chlorides mixed in them."
      ]
    },
    {
      "cell_type": "code",
      "execution_count": 34,
      "id": "09d51316",
      "metadata": {
        "colab": {
          "base_uri": "https://localhost:8080/",
          "height": 295
        },
        "execution": {
          "iopub.execute_input": "2022-03-22T02:40:35.727333Z",
          "iopub.status.busy": "2022-03-22T02:40:35.726662Z",
          "iopub.status.idle": "2022-03-22T02:40:35.973236Z",
          "shell.execute_reply": "2022-03-22T02:40:35.972590Z",
          "shell.execute_reply.started": "2022-03-22T02:29:18.815584Z"
        },
        "id": "09d51316",
        "outputId": "77250ec1-ddb6-42ec-a512-030f2207144b",
        "papermill": {
          "duration": 0.315506,
          "end_time": "2022-03-22T02:40:35.973396",
          "exception": false,
          "start_time": "2022-03-22T02:40:35.657890",
          "status": "completed"
        },
        "tags": []
      },
      "outputs": [
        {
          "data": {
            "image/png": "[encoded data removed]",
            "text/plain": [
              "<Figure size 432x288 with 1 Axes>"
            ]
          },
          "metadata": {
            "needs_background": "light"
          },
          "output_type": "display_data"
        }
      ],
      "source": [
        "sns.boxplot(x=\"quality\",y=\"citric_acid\",data=data,palette=\"coolwarm\")\n",
        "plt.title(\"Boxplot of Quality and Citric Acid\")\n",
        "plt.show()"
      ]
    },
    {
      "cell_type": "markdown",
      "id": "011436d0",
      "metadata": {
        "id": "011436d0",
        "papermill": {
          "duration": 0.066689,
          "end_time": "2022-03-22T02:40:36.107286",
          "exception": false,
          "start_time": "2022-03-22T02:40:36.040597",
          "status": "completed"
        },
        "tags": []
      },
      "source": [
        "The quality of the wine increses with increase in the amount of citric acid in the wine."
      ]
    },
    {
      "cell_type": "code",
      "execution_count": 35,
      "id": "aa96a1f6",
      "metadata": {
        "colab": {
          "base_uri": "https://localhost:8080/",
          "height": 295
        },
        "execution": {
          "iopub.execute_input": "2022-03-22T02:40:36.249380Z",
          "iopub.status.busy": "2022-03-22T02:40:36.248702Z",
          "iopub.status.idle": "2022-03-22T02:40:36.717240Z",
          "shell.execute_reply": "2022-03-22T02:40:36.717840Z",
          "shell.execute_reply.started": "2022-03-22T02:29:19.041205Z"
        },
        "id": "aa96a1f6",
        "outputId": "673e9368-d160-4464-c1df-8f33ae4c6e88",
        "papermill": {
          "duration": 0.542092,
          "end_time": "2022-03-22T02:40:36.718014",
          "exception": false,
          "start_time": "2022-03-22T02:40:36.175922",
          "status": "completed"
        },
        "tags": []
      },
      "outputs": [
        {
          "data": {
            "image/png": "[encoded data removed]",
            "text/plain": [
              "<Figure size 432x288 with 1 Axes>"
            ]
          },
          "metadata": {
            "needs_background": "light"
          },
          "output_type": "display_data"
        }
      ],
      "source": [
        "sns.boxplot(x=\"quality\",y=\"volatile_acidity\",data=data,palette=\"viridis\")\n",
        "plt.title(\"Boxplot of Quality and Volatile Acidity\")\n",
        "plt.show()"
      ]
    },
    {
      "cell_type": "markdown",
      "id": "bd7f825f",
      "metadata": {
        "id": "bd7f825f",
        "papermill": {
          "duration": 0.068258,
          "end_time": "2022-03-22T02:40:36.855622",
          "exception": false,
          "start_time": "2022-03-22T02:40:36.787364",
          "status": "completed"
        },
        "tags": []
      },
      "source": [
        "As the number of volatile acids in wine decreases, so does its quality."
      ]
    },
    {
      "cell_type": "code",
      "execution_count": 36,
      "id": "d78713df",
      "metadata": {
        "colab": {
          "base_uri": "https://localhost:8080/",
          "height": 295
        },
        "execution": {
          "iopub.execute_input": "2022-03-22T02:40:36.994602Z",
          "iopub.status.busy": "2022-03-22T02:40:36.993839Z",
          "iopub.status.idle": "2022-03-22T02:40:37.237206Z",
          "shell.execute_reply": "2022-03-22T02:40:37.237786Z",
          "shell.execute_reply.started": "2022-03-22T02:29:19.275830Z"
        },
        "id": "d78713df",
        "outputId": "2d8b8b89-fa28-4153-b274-bc9cd7511beb",
        "papermill": {
          "duration": 0.314696,
          "end_time": "2022-03-22T02:40:37.237966",
          "exception": false,
          "start_time": "2022-03-22T02:40:36.923270",
          "status": "completed"
        },
        "tags": []
      },
      "outputs": [
        {
          "data": {
            "image/png": "[encoded data removed]",
            "text/plain": [
              "<Figure size 432x288 with 1 Axes>"
            ]
          },
          "metadata": {
            "needs_background": "light"
          },
          "output_type": "display_data"
        }
      ],
      "source": [
        "sns.boxplot(x=\"quality\",y=\"fixed_acidity\",data=data,palette=\"magma\")\n",
        "plt.title(\"Boxplot of Quality and Fixed Acidity\")\n",
        "plt.show()"
      ]
    },
    {
      "cell_type": "markdown",
      "id": "06ea4583",
      "metadata": {
        "id": "06ea4583",
        "papermill": {
          "duration": 0.06935,
          "end_time": "2022-03-22T02:40:37.376889",
          "exception": false,
          "start_time": "2022-03-22T02:40:37.307539",
          "status": "completed"
        },
        "tags": []
      },
      "source": [
        "There is not much effect of fixed acidity on the quality of the wine/"
      ]
    },
    {
      "cell_type": "markdown",
      "id": "c18fd82c",
      "metadata": {
        "id": "c18fd82c",
        "papermill": {
          "duration": 0.069092,
          "end_time": "2022-03-22T02:40:37.516082",
          "exception": false,
          "start_time": "2022-03-22T02:40:37.446990",
          "status": "completed"
        },
        "tags": []
      },
      "source": [
        "preprocessing"
      ]
    },
    {
      "cell_type": "code",
      "execution_count": 37,
      "id": "a654e158",
      "metadata": {
        "execution": {
          "iopub.execute_input": "2022-03-22T02:40:37.658091Z",
          "iopub.status.busy": "2022-03-22T02:40:37.657442Z",
          "iopub.status.idle": "2022-03-22T02:40:37.662265Z",
          "shell.execute_reply": "2022-03-22T02:40:37.662872Z",
          "shell.execute_reply.started": "2022-03-22T02:29:19.514814Z"
        },
        "id": "a654e158",
        "papermill": {
          "duration": 0.077949,
          "end_time": "2022-03-22T02:40:37.663045",
          "exception": false,
          "start_time": "2022-03-22T02:40:37.585096",
          "status": "completed"
        },
        "tags": []
      },
      "outputs": [],
      "source": [
        "features = data.drop(['quality'] , axis = 1)\n",
        "target = data['quality']"
      ]
    },
    {
      "cell_type": "markdown",
      "id": "c23e7c97",
      "metadata": {
        "id": "c23e7c97",
        "papermill": {
          "duration": 0.069915,
          "end_time": "2022-03-22T02:40:37.803177",
          "exception": false,
          "start_time": "2022-03-22T02:40:37.733262",
          "status": "completed"
        },
        "tags": []
      },
      "source": [
        "trying the random forrest classifier to analyse the feature importance"
      ]
    },
    {
      "cell_type": "code",
      "execution_count": 39,
      "id": "768bea84",
      "metadata": {
        "colab": {
          "base_uri": "https://localhost:8080/",
          "height": 70
        },
        "execution": {
          "iopub.execute_input": "2022-03-22T02:40:37.948018Z",
          "iopub.status.busy": "2022-03-22T02:40:37.947175Z",
          "iopub.status.idle": "2022-03-22T02:40:39.030014Z",
          "shell.execute_reply": "2022-03-22T02:40:39.029462Z",
          "shell.execute_reply.started": "2022-03-22T02:29:19.521279Z"
        },
        "id": "768bea84",
        "outputId": "f6736853-3aaf-4cba-d123-cc51a87c6934",
        "papermill": {
          "duration": 1.157807,
          "end_time": "2022-03-22T02:40:39.030162",
          "exception": false,
          "start_time": "2022-03-22T02:40:37.872355",
          "status": "completed"
        },
        "tags": []
      },
      "outputs": [
        {
          "data": {
            "text/plain": [
              "array([0.05049791, 0.13604892, 0.04475298, 0.05247952, 0.05881777,\n",
              "       0.0458654 , 0.07643178, 0.0515247 , 0.05821171, 0.14268737,\n",
              "       0.28268191])"
            ]
          },
          "metadata": {},
          "output_type": "display_data"
        }
      ],
      "source": [
        "from sklearn.ensemble import RandomForestRegressor\n",
        "model = RandomForestRegressor(random_state=1, max_depth=12)\n",
        "data = pd.get_dummies(data)\n",
        "model.fit(features, data.quality)\n",
        "display(model.feature_importances_)\n",
        "feat = data.columns\n",
        "imp = model.feature_importances_\n",
        "indices = np.argsort(imp)[:]"
      ]
    },
    {
      "cell_type": "code",
      "execution_count": 40,
      "id": "9a1ec7d8",
      "metadata": {
        "colab": {
          "base_uri": "https://localhost:8080/",
          "height": 295
        },
        "execution": {
          "iopub.execute_input": "2022-03-22T02:40:39.174625Z",
          "iopub.status.busy": "2022-03-22T02:40:39.173895Z",
          "iopub.status.idle": "2022-03-22T02:40:39.391895Z",
          "shell.execute_reply": "2022-03-22T02:40:39.391353Z",
          "shell.execute_reply.started": "2022-03-22T02:29:20.550861Z"
        },
        "id": "9a1ec7d8",
        "outputId": "6c42f68c-5016-4796-9cfb-b65776f6eebe",
        "papermill": {
          "duration": 0.291583,
          "end_time": "2022-03-22T02:40:39.392044",
          "exception": false,
          "start_time": "2022-03-22T02:40:39.100461",
          "status": "completed"
        },
        "tags": []
      },
      "outputs": [
        {
          "data": {
            "image/png": "[encoded data removed]",
            "text/plain": [
              "<Figure size 432x288 with 1 Axes>"
            ]
          },
          "metadata": {
            "needs_background": "light"
          },
          "output_type": "display_data"
        }
      ],
      "source": [
        "plt.title('Feature imp')\n",
        "plt.barh(range(len(indices)), imp[indices], color='g', align='center')\n",
        "plt.yticks(range(len(indices)), [feat[i] for i in indices])\n",
        "plt.xlabel('Relative Importance')\n",
        "plt.show()"
      ]
    },
    {
      "cell_type": "markdown",
      "id": "ce04a279",
      "metadata": {
        "id": "ce04a279",
        "papermill": {
          "duration": 0.070138,
          "end_time": "2022-03-22T02:40:39.535108",
          "exception": false,
          "start_time": "2022-03-22T02:40:39.464970",
          "status": "completed"
        },
        "tags": []
      },
      "source": [
        "The most essential factors influencing wine quality are alcohol, sulphates, and volatile acidity, with the least important factors being fixed acidity, fee sulpher dioxide, and citric acid."
      ]
    },
    {
      "cell_type": "code",
      "execution_count": 41,
      "id": "1a931621",
      "metadata": {
        "colab": {
          "base_uri": "https://localhost:8080/",
          "height": 423
        },
        "execution": {
          "iopub.execute_input": "2022-03-22T02:40:39.693843Z",
          "iopub.status.busy": "2022-03-22T02:40:39.686735Z",
          "iopub.status.idle": "2022-03-22T02:40:39.707152Z",
          "shell.execute_reply": "2022-03-22T02:40:39.706502Z",
          "shell.execute_reply.started": "2022-03-22T02:29:20.767173Z"
        },
        "id": "1a931621",
        "outputId": "eb9f9c4e-2381-4dae-ffdd-874eb102ccd8",
        "papermill": {
          "duration": 0.101523,
          "end_time": "2022-03-22T02:40:39.707346",
          "exception": false,
          "start_time": "2022-03-22T02:40:39.605823",
          "status": "completed"
        },
        "tags": []
      },
      "outputs": [
        {
          "data": {
            "text/html": [
              "\n",
              "  <div id=\"df-9ed20007-cef9-4ef9-846c-732ef7b42c6b\">\n",
              "    <div class=\"colab-df-container\">\n",
              "      <div>\n",
              "<style scoped>\n",
              "    .dataframe tbody tr th:only-of-type {\n",
              "        vertical-align: middle;\n",
              "    }\n",
              "\n",
              "    .dataframe tbody tr th {\n",
              "        vertical-align: top;\n",
              "    }\n",
              "\n",
              "    .dataframe thead th {\n",
              "        text-align: right;\n",
              "    }\n",
              "</style>\n",
              "<table border=\"1\" class=\"dataframe\">\n",
              "  <thead>\n",
              "    <tr style=\"text-align: right;\">\n",
              "      <th></th>\n",
              "      <th>volatile_acidity</th>\n",
              "      <th>residual_sugar</th>\n",
              "      <th>chlorides</th>\n",
              "      <th>total_sulfur_dioxide</th>\n",
              "      <th>density</th>\n",
              "      <th>pH</th>\n",
              "      <th>sulphates</th>\n",
              "      <th>alcohol</th>\n",
              "    </tr>\n",
              "  </thead>\n",
              "  <tbody>\n",
              "    <tr>\n",
              "      <th>0</th>\n",
              "      <td>0.700</td>\n",
              "      <td>1.9</td>\n",
              "      <td>0.076</td>\n",
              "      <td>34.0</td>\n",
              "      <td>0.99780</td>\n",
              "      <td>3.51</td>\n",
              "      <td>0.56</td>\n",
              "      <td>9.4</td>\n",
              "    </tr>\n",
              "    <tr>\n",
              "      <th>1</th>\n",
              "      <td>0.880</td>\n",
              "      <td>2.6</td>\n",
              "      <td>0.098</td>\n",
              "      <td>67.0</td>\n",
              "      <td>0.99680</td>\n",
              "      <td>3.20</td>\n",
              "      <td>0.68</td>\n",
              "      <td>9.8</td>\n",
              "    </tr>\n",
              "    <tr>\n",
              "      <th>2</th>\n",
              "      <td>0.760</td>\n",
              "      <td>2.3</td>\n",
              "      <td>0.092</td>\n",
              "      <td>54.0</td>\n",
              "      <td>0.99700</td>\n",
              "      <td>3.26</td>\n",
              "      <td>0.65</td>\n",
              "      <td>9.8</td>\n",
              "    </tr>\n",
              "    <tr>\n",
              "      <th>3</th>\n",
              "      <td>0.280</td>\n",
              "      <td>1.9</td>\n",
              "      <td>0.075</td>\n",
              "      <td>60.0</td>\n",
              "      <td>0.99800</td>\n",
              "      <td>3.16</td>\n",
              "      <td>0.58</td>\n",
              "      <td>9.8</td>\n",
              "    </tr>\n",
              "    <tr>\n",
              "      <th>4</th>\n",
              "      <td>0.700</td>\n",
              "      <td>1.9</td>\n",
              "      <td>0.076</td>\n",
              "      <td>34.0</td>\n",
              "      <td>0.99780</td>\n",
              "      <td>3.51</td>\n",
              "      <td>0.56</td>\n",
              "      <td>9.4</td>\n",
              "    </tr>\n",
              "    <tr>\n",
              "      <th>...</th>\n",
              "      <td>...</td>\n",
              "      <td>...</td>\n",
              "      <td>...</td>\n",
              "      <td>...</td>\n",
              "      <td>...</td>\n",
              "      <td>...</td>\n",
              "      <td>...</td>\n",
              "      <td>...</td>\n",
              "    </tr>\n",
              "    <tr>\n",
              "      <th>1594</th>\n",
              "      <td>0.600</td>\n",
              "      <td>2.0</td>\n",
              "      <td>0.090</td>\n",
              "      <td>44.0</td>\n",
              "      <td>0.99490</td>\n",
              "      <td>3.45</td>\n",
              "      <td>0.58</td>\n",
              "      <td>10.5</td>\n",
              "    </tr>\n",
              "    <tr>\n",
              "      <th>1595</th>\n",
              "      <td>0.550</td>\n",
              "      <td>2.2</td>\n",
              "      <td>0.062</td>\n",
              "      <td>51.0</td>\n",
              "      <td>0.99512</td>\n",
              "      <td>3.52</td>\n",
              "      <td>0.76</td>\n",
              "      <td>11.2</td>\n",
              "    </tr>\n",
              "    <tr>\n",
              "      <th>1596</th>\n",
              "      <td>0.510</td>\n",
              "      <td>2.3</td>\n",
              "      <td>0.076</td>\n",
              "      <td>40.0</td>\n",
              "      <td>0.99574</td>\n",
              "      <td>3.42</td>\n",
              "      <td>0.75</td>\n",
              "      <td>11.0</td>\n",
              "    </tr>\n",
              "    <tr>\n",
              "      <th>1597</th>\n",
              "      <td>0.645</td>\n",
              "      <td>2.0</td>\n",
              "      <td>0.075</td>\n",
              "      <td>44.0</td>\n",
              "      <td>0.99547</td>\n",
              "      <td>3.57</td>\n",
              "      <td>0.71</td>\n",
              "      <td>10.2</td>\n",
              "    </tr>\n",
              "    <tr>\n",
              "      <th>1598</th>\n",
              "      <td>0.310</td>\n",
              "      <td>3.6</td>\n",
              "      <td>0.067</td>\n",
              "      <td>42.0</td>\n",
              "      <td>0.99549</td>\n",
              "      <td>3.39</td>\n",
              "      <td>0.66</td>\n",
              "      <td>11.0</td>\n",
              "    </tr>\n",
              "  </tbody>\n",
              "</table>\n",
              "<p>1599 rows × 8 columns</p>\n",
              "</div>\n",
              "      <button class=\"colab-df-convert\" onclick=\"convertToInteractive('df-9ed20007-cef9-4ef9-846c-732ef7b42c6b')\"\n",
              "              title=\"Convert this dataframe to an interactive table.\"\n",
              "              style=\"display:none;\">\n",
              "        \n",
              "  <svg xmlns=\"http://www.w3.org/2000/svg\" height=\"24px\"viewBox=\"0 0 24 24\"\n",
              "       width=\"24px\">\n",
              "    <path d=\"M0 0h24v24H0V0z\" fill=\"none\"/>\n",
              "    <path d=\"M18.56 5.44l.94 2.06.94-2.06 2.06-.94-2.06-.94-.94-2.06-.94 2.06-2.06.94zm-11 1L8.5 8.5l.94-2.06 2.06-.94-2.06-.94L8.5 2.5l-.94 2.06-2.06.94zm10 10l.94 2.06.94-2.06 2.06-.94-2.06-.94-.94-2.06-.94 2.06-2.06.94z\"/><path d=\"M17.41 7.96l-1.37-1.37c-.4-.4-.92-.59-1.43-.59-.52 0-1.04.2-1.43.59L10.3 9.45l-7.72 7.72c-.78.78-.78 2.05 0 2.83L4 21.41c.39.39.9.59 1.41.59.51 0 1.02-.2 1.41-.59l7.78-7.78 2.81-2.81c.8-.78.8-2.07 0-2.86zM5.41 20L4 18.59l7.72-7.72 1.47 1.35L5.41 20z\"/>\n",
              "  </svg>\n",
              "      </button>\n",
              "      \n",
              "  <style>\n",
              "    .colab-df-container {\n",
              "      display:flex;\n",
              "      flex-wrap:wrap;\n",
              "      gap: 12px;\n",
              "    }\n",
              "\n",
              "    .colab-df-convert {\n",
              "      background-color: #E8F0FE;\n",
              "      border: none;\n",
              "      border-radius: 50%;\n",
              "      cursor: pointer;\n",
              "      display: none;\n",
              "      fill: #1967D2;\n",
              "      height: 32px;\n",
              "      padding: 0 0 0 0;\n",
              "      width: 32px;\n",
              "    }\n",
              "\n",
              "    .colab-df-convert:hover {\n",
              "      background-color: #E2EBFA;\n",
              "      box-shadow: 0px 1px 2px rgba(60, 64, 67, 0.3), 0px 1px 3px 1px rgba(60, 64, 67, 0.15);\n",
              "      fill: #174EA6;\n",
              "    }\n",
              "\n",
              "    [theme=dark] .colab-df-convert {\n",
              "      background-color: #3B4455;\n",
              "      fill: #D2E3FC;\n",
              "    }\n",
              "\n",
              "    [theme=dark] .colab-df-convert:hover {\n",
              "      background-color: #434B5C;\n",
              "      box-shadow: 0px 1px 3px 1px rgba(0, 0, 0, 0.15);\n",
              "      filter: drop-shadow(0px 1px 2px rgba(0, 0, 0, 0.3));\n",
              "      fill: #FFFFFF;\n",
              "    }\n",
              "  </style>\n",
              "\n",
              "      <script>\n",
              "        const buttonEl =\n",
              "          document.querySelector('#df-9ed20007-cef9-4ef9-846c-732ef7b42c6b button.colab-df-convert');\n",
              "        buttonEl.style.display =\n",
              "          google.colab.kernel.accessAllowed ? 'block' : 'none';\n",
              "\n",
              "        async function convertToInteractive(key) {\n",
              "          const element = document.querySelector('#df-9ed20007-cef9-4ef9-846c-732ef7b42c6b');\n",
              "          const dataTable =\n",
              "            await google.colab.kernel.invokeFunction('convertToInteractive',\n",
              "                                                     [key], {});\n",
              "          if (!dataTable) return;\n",
              "\n",
              "          const docLinkHtml = 'Like what you see? Visit the ' +\n",
              "            '<a target=\"_blank\" href=https://colab.research.google.com/notebooks/data_table.ipynb>data table notebook</a>'\n",
              "            + ' to learn more about interactive tables.';\n",
              "          element.innerHTML = '';\n",
              "          dataTable['output_type'] = 'display_data';\n",
              "          await google.colab.output.renderOutput(dataTable, element);\n",
              "          const docLink = document.createElement('div');\n",
              "          docLink.innerHTML = docLinkHtml;\n",
              "          element.appendChild(docLink);\n",
              "        }\n",
              "      </script>\n",
              "    </div>\n",
              "  </div>\n",
              "  "
            ],
            "text/plain": [
              "      volatile_acidity  residual_sugar  chlorides  total_sulfur_dioxide  \\\n",
              "0                0.700             1.9      0.076                  34.0   \n",
              "1                0.880             2.6      0.098                  67.0   \n",
              "2                0.760             2.3      0.092                  54.0   \n",
              "3                0.280             1.9      0.075                  60.0   \n",
              "4                0.700             1.9      0.076                  34.0   \n",
              "...                ...             ...        ...                   ...   \n",
              "1594             0.600             2.0      0.090                  44.0   \n",
              "1595             0.550             2.2      0.062                  51.0   \n",
              "1596             0.510             2.3      0.076                  40.0   \n",
              "1597             0.645             2.0      0.075                  44.0   \n",
              "1598             0.310             3.6      0.067                  42.0   \n",
              "\n",
              "      density    pH  sulphates  alcohol  \n",
              "0     0.99780  3.51       0.56      9.4  \n",
              "1     0.99680  3.20       0.68      9.8  \n",
              "2     0.99700  3.26       0.65      9.8  \n",
              "3     0.99800  3.16       0.58      9.8  \n",
              "4     0.99780  3.51       0.56      9.4  \n",
              "...       ...   ...        ...      ...  \n",
              "1594  0.99490  3.45       0.58     10.5  \n",
              "1595  0.99512  3.52       0.76     11.2  \n",
              "1596  0.99574  3.42       0.75     11.0  \n",
              "1597  0.99547  3.57       0.71     10.2  \n",
              "1598  0.99549  3.39       0.66     11.0  \n",
              "\n",
              "[1599 rows x 8 columns]"
            ]
          },
          "execution_count": 41,
          "metadata": {},
          "output_type": "execute_result"
        }
      ],
      "source": [
        "del features['fixed_acidity']\n",
        "del features['free_sulfur_dioxide']\n",
        "del features['citric_acid']\n",
        "features"
      ]
    },
    {
      "cell_type": "code",
      "execution_count": 42,
      "id": "93fb3440",
      "metadata": {
        "execution": {
          "iopub.execute_input": "2022-03-22T02:40:39.856480Z",
          "iopub.status.busy": "2022-03-22T02:40:39.855764Z",
          "iopub.status.idle": "2022-03-22T02:40:39.860707Z",
          "shell.execute_reply": "2022-03-22T02:40:39.861236Z",
          "shell.execute_reply.started": "2022-03-22T02:29:20.792958Z"
        },
        "id": "93fb3440",
        "papermill": {
          "duration": 0.08116,
          "end_time": "2022-03-22T02:40:39.861455",
          "exception": false,
          "start_time": "2022-03-22T02:40:39.780295",
          "status": "completed"
        },
        "tags": []
      },
      "outputs": [],
      "source": [
        "from sklearn.preprocessing import StandardScaler, LabelEncoder\n",
        "le = LabelEncoder()\n",
        "y = le.fit_transform(data.iloc[: , -1])\n",
        "y = pd.DataFrame(y.reshape(len(y),1))"
      ]
    },
    {
      "cell_type": "code",
      "execution_count": 43,
      "id": "ce12115d",
      "metadata": {
        "execution": {
          "iopub.execute_input": "2022-03-22T02:40:40.009188Z",
          "iopub.status.busy": "2022-03-22T02:40:40.008525Z",
          "iopub.status.idle": "2022-03-22T02:40:40.014501Z",
          "shell.execute_reply": "2022-03-22T02:40:40.015108Z",
          "shell.execute_reply.started": "2022-03-22T02:29:20.801397Z"
        },
        "id": "ce12115d",
        "papermill": {
          "duration": 0.082151,
          "end_time": "2022-03-22T02:40:40.015297",
          "exception": false,
          "start_time": "2022-03-22T02:40:39.933146",
          "status": "completed"
        },
        "tags": []
      },
      "outputs": [],
      "source": [
        "x_train, x_test, y_train, y_test = train_test_split(features,y, test_size = 0.2, random_state = 0)"
      ]
    },
    {
      "cell_type": "code",
      "execution_count": 44,
      "id": "89e2ba66",
      "metadata": {
        "execution": {
          "iopub.execute_input": "2022-03-22T02:40:40.164888Z",
          "iopub.status.busy": "2022-03-22T02:40:40.164164Z",
          "iopub.status.idle": "2022-03-22T02:40:41.281075Z",
          "shell.execute_reply": "2022-03-22T02:40:41.280455Z",
          "shell.execute_reply.started": "2022-03-22T02:29:20.818103Z"
        },
        "id": "89e2ba66",
        "papermill": {
          "duration": 1.191933,
          "end_time": "2022-03-22T02:40:41.281228",
          "exception": false,
          "start_time": "2022-03-22T02:40:40.089295",
          "status": "completed"
        },
        "tags": []
      },
      "outputs": [],
      "source": [
        "y_train_cat = tf.keras.utils.to_categorical(y_train, 6)\n",
        "y_test_cat = tf.keras.utils.to_categorical(y_test, 6)"
      ]
    },
    {
      "cell_type": "markdown",
      "id": "691dca49",
      "metadata": {
        "id": "691dca49",
        "papermill": {
          "duration": 0.072667,
          "end_time": "2022-03-22T02:40:41.426390",
          "exception": false,
          "start_time": "2022-03-22T02:40:41.353723",
          "status": "completed"
        },
        "tags": []
      },
      "source": [
        "## tensorflow dnn"
      ]
    },
    {
      "cell_type": "code",
      "execution_count": 45,
      "id": "dc0c4686",
      "metadata": {
        "execution": {
          "iopub.execute_input": "2022-03-22T02:40:41.579174Z",
          "iopub.status.busy": "2022-03-22T02:40:41.578416Z",
          "iopub.status.idle": "2022-03-22T02:40:41.581890Z",
          "shell.execute_reply": "2022-03-22T02:40:41.581360Z",
          "shell.execute_reply.started": "2022-03-22T02:31:06.227306Z"
        },
        "id": "dc0c4686",
        "papermill": {
          "duration": 0.08235,
          "end_time": "2022-03-22T02:40:41.582042",
          "exception": false,
          "start_time": "2022-03-22T02:40:41.499692",
          "status": "completed"
        },
        "tags": []
      },
      "outputs": [],
      "source": [
        "def create_feature_column():\n",
        "    feat_volatile_acidity = tf.feature_column.numeric_column('volatile_acidity')\n",
        "    feat_residual_sugar = tf.feature_column.numeric_column('residual_sugar')\n",
        "    feat_chlorides = tf.feature_column.numeric_column('chlorides')\n",
        "    feat_total_sulfur_dioxide  = tf.feature_column.numeric_column('total_sulfur_dioxide')\n",
        "    feat_density              = tf.feature_column.numeric_column('density')\n",
        "    feat_pH  = tf.feature_column.numeric_column('pH')\n",
        "    feat_sulphates  = tf.feature_column.numeric_column('sulphates')\n",
        "    feat_alcohol  = tf.feature_column.numeric_column('alcohol')\n",
        "\n",
        "    feature_column = [ feat_volatile_acidity,feat_residual_sugar, feat_chlorides, \n",
        "                       feat_total_sulfur_dioxide,feat_density,feat_pH,feat_sulphates,feat_alcohol] \n",
        "\n",
        "    return feature_column\n",
        "feature_column = create_feature_column()"
      ]
    },
    {
      "cell_type": "code",
      "execution_count": 46,
      "id": "6d39b991",
      "metadata": {
        "execution": {
          "iopub.execute_input": "2022-03-22T02:40:41.732556Z",
          "iopub.status.busy": "2022-03-22T02:40:41.731810Z",
          "iopub.status.idle": "2022-03-22T02:40:41.734833Z",
          "shell.execute_reply": "2022-03-22T02:40:41.734230Z",
          "shell.execute_reply.started": "2022-03-22T02:31:07.183432Z"
        },
        "id": "6d39b991",
        "papermill": {
          "duration": 0.081406,
          "end_time": "2022-03-22T02:40:41.734985",
          "exception": false,
          "start_time": "2022-03-22T02:40:41.653579",
          "status": "completed"
        },
        "tags": []
      },
      "outputs": [],
      "source": [
        "def traineval(x_train, y_train, training=False, batch_size=128):\n",
        "    \"\"\"An input function for training or evaluating\"\"\"\n",
        "    \n",
        "    dataset = tf.data.Dataset.from_tensor_slices((dict(x_train), y_train))\n",
        "\n",
        "    if training:\n",
        "        dataset = dataset.shuffle(1000).repeat()\n",
        "    return dataset.batch(batch_size)"
      ]
    },
    {
      "cell_type": "code",
      "execution_count": 47,
      "id": "ea90a35d",
      "metadata": {
        "execution": {
          "iopub.execute_input": "2022-03-22T02:40:41.886152Z",
          "iopub.status.busy": "2022-03-22T02:40:41.885440Z",
          "iopub.status.idle": "2022-03-22T02:40:41.889607Z",
          "shell.execute_reply": "2022-03-22T02:40:41.890170Z",
          "shell.execute_reply.started": "2022-03-22T02:31:08.534255Z"
        },
        "id": "ea90a35d",
        "papermill": {
          "duration": 0.082424,
          "end_time": "2022-03-22T02:40:41.890361",
          "exception": false,
          "start_time": "2022-03-22T02:40:41.807937",
          "status": "completed"
        },
        "tags": []
      },
      "outputs": [],
      "source": [
        "my_feature_columns = []\n",
        "for key in data.keys():\n",
        "    my_feature_columns.append(tf.feature_column.numeric_column(key=key))"
      ]
    },
    {
      "cell_type": "code",
      "execution_count": 48,
      "id": "2635601d",
      "metadata": {
        "colab": {
          "base_uri": "https://localhost:8080/"
        },
        "execution": {
          "iopub.execute_input": "2022-03-22T02:40:42.040612Z",
          "iopub.status.busy": "2022-03-22T02:40:42.039655Z",
          "iopub.status.idle": "2022-03-22T02:40:42.418773Z",
          "shell.execute_reply": "2022-03-22T02:40:42.417982Z",
          "shell.execute_reply.started": "2022-03-22T02:31:09.195638Z"
        },
        "id": "2635601d",
        "outputId": "6b749fc4-61b8-4b7b-8f26-cdf659a226ec",
        "papermill": {
          "duration": 0.456863,
          "end_time": "2022-03-22T02:40:42.418981",
          "exception": false,
          "start_time": "2022-03-22T02:40:41.962118",
          "status": "completed"
        },
        "tags": []
      },
      "outputs": [
        {
          "name": "stderr",
          "output_type": "stream",
          "text": [
            "WARNING:tensorflow:Using temporary folder as model directory: /tmp/tmprkl5iz9o\n"
          ]
        }
      ],
      "source": [
        "dnn = tf.estimator.DNNClassifier(hidden_units = [20,20,20],\n",
        "                                      feature_columns = feature_column,\n",
        "                                      n_classes= 6,\n",
        "                                      activation_fn=tf.nn.relu,\n",
        "                                      dropout=None)"
      ]
    },
    {
      "cell_type": "code",
      "execution_count": 49,
      "id": "86a73cd4",
      "metadata": {
        "colab": {
          "base_uri": "https://localhost:8080/"
        },
        "execution": {
          "iopub.execute_input": "2022-03-22T02:40:42.568489Z",
          "iopub.status.busy": "2022-03-22T02:40:42.567773Z",
          "iopub.status.idle": "2022-03-22T02:40:58.963083Z",
          "shell.execute_reply": "2022-03-22T02:40:58.962297Z",
          "shell.execute_reply.started": "2022-03-22T02:31:12.136316Z"
        },
        "id": "86a73cd4",
        "outputId": "cca50c9c-b867-497b-a176-7e0836feb077",
        "papermill": {
          "duration": 16.469857,
          "end_time": "2022-03-22T02:40:58.963224",
          "exception": false,
          "start_time": "2022-03-22T02:40:42.493367",
          "status": "completed"
        },
        "tags": []
      },
      "outputs": [
        {
          "name": "stderr",
          "output_type": "stream",
          "text": [
            "WARNING:tensorflow:From /usr/local/lib/python3.8/dist-packages/tensorflow/python/training/training_util.py:396: Variable.initialized_value (from tensorflow.python.ops.variables) is deprecated and will be removed in a future version.\n",
            "Instructions for updating:\n",
            "Use Variable.read_value. Variables in 2.X are initialized automatically both in eager and graph (inside tf.defun) contexts.\n",
            "WARNING:tensorflow:From /usr/local/lib/python3.8/dist-packages/keras/optimizers/optimizer_v2/adagrad.py:86: calling Constant.__init__ (from tensorflow.python.ops.init_ops) with dtype is deprecated and will be removed in a future version.\n",
            "Instructions for updating:\n",
            "Call initializer instance with the dtype argument instead of passing it to the constructor\n"
          ]
        },
        {
          "data": {
            "text/plain": [
              "<tensorflow_estimator.python.estimator.canned.dnn.DNNClassifierV2 at 0x7fb8509ba400>"
            ]
          },
          "execution_count": 49,
          "metadata": {},
          "output_type": "execute_result"
        }
      ],
      "source": [
        "dnn.train(\n",
        "    input_fn= lambda: traineval(x_train, y_train , training=True), steps=5000)"
      ]
    },
    {
      "cell_type": "code",
      "execution_count": 50,
      "id": "433e4a66",
      "metadata": {
        "execution": {
          "iopub.execute_input": "2022-03-22T02:40:59.114549Z",
          "iopub.status.busy": "2022-03-22T02:40:59.113842Z",
          "iopub.status.idle": "2022-03-22T02:40:59.972775Z",
          "shell.execute_reply": "2022-03-22T02:40:59.972151Z",
          "shell.execute_reply.started": "2022-03-22T02:31:31.081511Z"
        },
        "id": "433e4a66",
        "papermill": {
          "duration": 0.936706,
          "end_time": "2022-03-22T02:40:59.972923",
          "exception": false,
          "start_time": "2022-03-22T02:40:59.036217",
          "status": "completed"
        },
        "tags": []
      },
      "outputs": [],
      "source": [
        "eval_result = dnn.evaluate(input_fn=lambda: traineval(x_test, y_test, training=False))\n",
        "predictions = dnn.predict(input_fn=lambda: traineval(x_test, y_test, training=False))"
      ]
    },
    {
      "cell_type": "code",
      "execution_count": 51,
      "id": "ed41db9d",
      "metadata": {
        "colab": {
          "base_uri": "https://localhost:8080/"
        },
        "execution": {
          "iopub.execute_input": "2022-03-22T02:41:00.124008Z",
          "iopub.status.busy": "2022-03-22T02:41:00.123127Z",
          "iopub.status.idle": "2022-03-22T02:41:00.126903Z",
          "shell.execute_reply": "2022-03-22T02:41:00.127397Z",
          "shell.execute_reply.started": "2022-03-22T02:31:54.549883Z"
        },
        "id": "ed41db9d",
        "outputId": "d9de77e6-da97-4f1e-fbbf-1517938a2b9a",
        "papermill": {
          "duration": 0.081122,
          "end_time": "2022-03-22T02:41:00.127583",
          "exception": false,
          "start_time": "2022-03-22T02:41:00.046461",
          "status": "completed"
        },
        "tags": []
      },
      "outputs": [
        {
          "name": "stdout",
          "output_type": "stream",
          "text": [
            "{'accuracy': 0.490625, 'average_loss': 1.1074674, 'loss': 1.1123697, 'global_step': 5000}\n"
          ]
        }
      ],
      "source": [
        "print(eval_result)"
      ]
    },
    {
      "cell_type": "code",
      "execution_count": 52,
      "id": "b0661542",
      "metadata": {
        "colab": {
          "base_uri": "https://localhost:8080/"
        },
        "execution": {
          "iopub.execute_input": "2022-03-22T02:41:00.292613Z",
          "iopub.status.busy": "2022-03-22T02:41:00.291604Z",
          "iopub.status.idle": "2022-03-22T02:41:21.333673Z",
          "shell.execute_reply": "2022-03-22T02:41:21.333053Z",
          "shell.execute_reply.started": "2022-03-22T02:32:00.686785Z"
        },
        "id": "b0661542",
        "outputId": "ca7d9b1f-f836-4cb9-8ef8-51f1c00c5462",
        "papermill": {
          "duration": 21.132972,
          "end_time": "2022-03-22T02:41:21.333839",
          "exception": false,
          "start_time": "2022-03-22T02:41:00.200867",
          "status": "completed"
        },
        "tags": []
      },
      "outputs": [
        {
          "name": "stdout",
          "output_type": "stream",
          "text": [
            "Model: \"sequential\"\n",
            "_________________________________________________________________\n",
            " Layer (type)                Output Shape              Param #   \n",
            "=================================================================\n",
            " dense (Dense)               (None, 16)                144       \n",
            "                                                                 \n",
            " dense_1 (Dense)             (None, 8)                 136       \n",
            "                                                                 \n",
            " dense_2 (Dense)             (None, 6)                 54        \n",
            "                                                                 \n",
            "=================================================================\n",
            "Total params: 334\n",
            "Trainable params: 334\n",
            "Non-trainable params: 0\n",
            "_________________________________________________________________\n",
            "Epoch 1/150\n",
            "40/40 [==============================] - 1s 10ms/step - loss: 5.3111 - accuracy: 0.1720 - val_loss: 2.3186 - val_accuracy: 0.2375\n",
            "Epoch 2/150\n",
            "40/40 [==============================] - 0s 8ms/step - loss: 1.8790 - accuracy: 0.3511 - val_loss: 1.7163 - val_accuracy: 0.4219\n",
            "Epoch 3/150\n",
            "40/40 [==============================] - 0s 8ms/step - loss: 1.7053 - accuracy: 0.4269 - val_loss: 1.6836 - val_accuracy: 0.4219\n",
            "Epoch 4/150\n",
            "40/40 [==============================] - 0s 11ms/step - loss: 1.6748 - accuracy: 0.4285 - val_loss: 1.6524 - val_accuracy: 0.4219\n",
            "Epoch 5/150\n",
            "40/40 [==============================] - 0s 8ms/step - loss: 1.6456 - accuracy: 0.4285 - val_loss: 1.6229 - val_accuracy: 0.4219\n",
            "Epoch 6/150\n",
            "40/40 [==============================] - 0s 8ms/step - loss: 1.6184 - accuracy: 0.4277 - val_loss: 1.5945 - val_accuracy: 0.4250\n",
            "Epoch 7/150\n",
            "40/40 [==============================] - 0s 9ms/step - loss: 1.5926 - accuracy: 0.4269 - val_loss: 1.5681 - val_accuracy: 0.4250\n",
            "Epoch 8/150\n",
            "40/40 [==============================] - 1s 16ms/step - loss: 1.5684 - accuracy: 0.4269 - val_loss: 1.5425 - val_accuracy: 0.4219\n",
            "Epoch 9/150\n",
            "40/40 [==============================] - 0s 10ms/step - loss: 1.5459 - accuracy: 0.4285 - val_loss: 1.5186 - val_accuracy: 0.4219\n",
            "Epoch 10/150\n",
            "40/40 [==============================] - 0s 10ms/step - loss: 1.5241 - accuracy: 0.4285 - val_loss: 1.4954 - val_accuracy: 0.4219\n",
            "Epoch 11/150\n",
            "40/40 [==============================] - 0s 10ms/step - loss: 1.5036 - accuracy: 0.4277 - val_loss: 1.4742 - val_accuracy: 0.4219\n",
            "Epoch 12/150\n",
            "40/40 [==============================] - 0s 5ms/step - loss: 1.4849 - accuracy: 0.4285 - val_loss: 1.4539 - val_accuracy: 0.4219\n",
            "Epoch 13/150\n",
            "40/40 [==============================] - 0s 6ms/step - loss: 1.4667 - accuracy: 0.4285 - val_loss: 1.4357 - val_accuracy: 0.4219\n",
            "Epoch 14/150\n",
            "40/40 [==============================] - 0s 5ms/step - loss: 1.4501 - accuracy: 0.4285 - val_loss: 1.4177 - val_accuracy: 0.4219\n",
            "Epoch 15/150\n",
            "40/40 [==============================] - 0s 5ms/step - loss: 1.4340 - accuracy: 0.4285 - val_loss: 1.4014 - val_accuracy: 0.4219\n",
            "Epoch 16/150\n",
            "40/40 [==============================] - 0s 7ms/step - loss: 1.4194 - accuracy: 0.4285 - val_loss: 1.3852 - val_accuracy: 0.4219\n",
            "Epoch 17/150\n",
            "40/40 [==============================] - 0s 9ms/step - loss: 1.4055 - accuracy: 0.4285 - val_loss: 1.3713 - val_accuracy: 0.4219\n",
            "Epoch 18/150\n",
            "40/40 [==============================] - 0s 6ms/step - loss: 1.3925 - accuracy: 0.4285 - val_loss: 1.3572 - val_accuracy: 0.4219\n",
            "Epoch 19/150\n",
            "40/40 [==============================] - 0s 11ms/step - loss: 1.3809 - accuracy: 0.4285 - val_loss: 1.3446 - val_accuracy: 0.4219\n",
            "Epoch 20/150\n",
            "40/40 [==============================] - 0s 10ms/step - loss: 1.3696 - accuracy: 0.4285 - val_loss: 1.3323 - val_accuracy: 0.4219\n",
            "Epoch 21/150\n",
            "40/40 [==============================] - 0s 12ms/step - loss: 1.3592 - accuracy: 0.4285 - val_loss: 1.3207 - val_accuracy: 0.4219\n",
            "Epoch 22/150\n",
            "40/40 [==============================] - 0s 6ms/step - loss: 1.3493 - accuracy: 0.4277 - val_loss: 1.3102 - val_accuracy: 0.4219\n",
            "Epoch 23/150\n",
            "40/40 [==============================] - 0s 5ms/step - loss: 1.3400 - accuracy: 0.4285 - val_loss: 1.3009 - val_accuracy: 0.4219\n",
            "Epoch 24/150\n",
            "40/40 [==============================] - 0s 4ms/step - loss: 1.3318 - accuracy: 0.4285 - val_loss: 1.2915 - val_accuracy: 0.4219\n",
            "Epoch 25/150\n",
            "40/40 [==============================] - 0s 7ms/step - loss: 1.3238 - accuracy: 0.4285 - val_loss: 1.2822 - val_accuracy: 0.4219\n",
            "Epoch 26/150\n",
            "40/40 [==============================] - 0s 8ms/step - loss: 1.3161 - accuracy: 0.4285 - val_loss: 1.2757 - val_accuracy: 0.4219\n",
            "Epoch 27/150\n",
            "40/40 [==============================] - 0s 6ms/step - loss: 1.3093 - accuracy: 0.4285 - val_loss: 1.2677 - val_accuracy: 0.4219\n",
            "Epoch 28/150\n",
            "40/40 [==============================] - 0s 4ms/step - loss: 1.3031 - accuracy: 0.4277 - val_loss: 1.2610 - val_accuracy: 0.4219\n",
            "Epoch 29/150\n",
            "40/40 [==============================] - 0s 5ms/step - loss: 1.2965 - accuracy: 0.4285 - val_loss: 1.2539 - val_accuracy: 0.4219\n",
            "Epoch 30/150\n",
            "40/40 [==============================] - 0s 5ms/step - loss: 1.2912 - accuracy: 0.4285 - val_loss: 1.2480 - val_accuracy: 0.4219\n",
            "Epoch 31/150\n",
            "40/40 [==============================] - 0s 5ms/step - loss: 1.2859 - accuracy: 0.4277 - val_loss: 1.2414 - val_accuracy: 0.4219\n",
            "Epoch 32/150\n",
            "40/40 [==============================] - 0s 4ms/step - loss: 1.2804 - accuracy: 0.4285 - val_loss: 1.2372 - val_accuracy: 0.4219\n",
            "Epoch 33/150\n",
            "40/40 [==============================] - 0s 5ms/step - loss: 1.2758 - accuracy: 0.4285 - val_loss: 1.2312 - val_accuracy: 0.4219\n",
            "Epoch 34/150\n",
            "40/40 [==============================] - 0s 5ms/step - loss: 1.2720 - accuracy: 0.4277 - val_loss: 1.2272 - val_accuracy: 0.4219\n",
            "Epoch 35/150\n",
            "40/40 [==============================] - 0s 6ms/step - loss: 1.2673 - accuracy: 0.4277 - val_loss: 1.2233 - val_accuracy: 0.4219\n",
            "Epoch 36/150\n",
            "40/40 [==============================] - 0s 8ms/step - loss: 1.2634 - accuracy: 0.4285 - val_loss: 1.2182 - val_accuracy: 0.4219\n",
            "Epoch 37/150\n",
            "40/40 [==============================] - 0s 6ms/step - loss: 1.2601 - accuracy: 0.4277 - val_loss: 1.2146 - val_accuracy: 0.4219\n",
            "Epoch 38/150\n",
            "40/40 [==============================] - 0s 6ms/step - loss: 1.2568 - accuracy: 0.4285 - val_loss: 1.2105 - val_accuracy: 0.4219\n",
            "Epoch 39/150\n",
            "40/40 [==============================] - 0s 7ms/step - loss: 1.2534 - accuracy: 0.4285 - val_loss: 1.2072 - val_accuracy: 0.4219\n",
            "Epoch 40/150\n",
            "40/40 [==============================] - 0s 5ms/step - loss: 1.2502 - accuracy: 0.4285 - val_loss: 1.2037 - val_accuracy: 0.4219\n",
            "Epoch 41/150\n",
            "40/40 [==============================] - 0s 7ms/step - loss: 1.2475 - accuracy: 0.4277 - val_loss: 1.2035 - val_accuracy: 0.4219\n",
            "Epoch 42/150\n",
            "40/40 [==============================] - 0s 5ms/step - loss: 1.2451 - accuracy: 0.4277 - val_loss: 1.1966 - val_accuracy: 0.4219\n",
            "Epoch 43/150\n",
            "40/40 [==============================] - 0s 6ms/step - loss: 1.2420 - accuracy: 0.4285 - val_loss: 1.1968 - val_accuracy: 0.4219\n",
            "Epoch 44/150\n",
            "40/40 [==============================] - 0s 5ms/step - loss: 1.2394 - accuracy: 0.4277 - val_loss: 1.1941 - val_accuracy: 0.4219\n",
            "Epoch 45/150\n",
            "40/40 [==============================] - 0s 6ms/step - loss: 1.2373 - accuracy: 0.4285 - val_loss: 1.1919 - val_accuracy: 0.4219\n",
            "Epoch 46/150\n",
            "40/40 [==============================] - 0s 4ms/step - loss: 1.2357 - accuracy: 0.4277 - val_loss: 1.1880 - val_accuracy: 0.4219\n",
            "Epoch 47/150\n",
            "40/40 [==============================] - 0s 7ms/step - loss: 1.2332 - accuracy: 0.4277 - val_loss: 1.1890 - val_accuracy: 0.4219\n",
            "Epoch 48/150\n",
            "40/40 [==============================] - 0s 9ms/step - loss: 1.2313 - accuracy: 0.4285 - val_loss: 1.1855 - val_accuracy: 0.4219\n",
            "Epoch 49/150\n",
            "40/40 [==============================] - 0s 11ms/step - loss: 1.2298 - accuracy: 0.4285 - val_loss: 1.1817 - val_accuracy: 0.4219\n",
            "Epoch 50/150\n",
            "40/40 [==============================] - 0s 9ms/step - loss: 1.2276 - accuracy: 0.4277 - val_loss: 1.1839 - val_accuracy: 0.4219\n",
            "Epoch 51/150\n",
            "40/40 [==============================] - 0s 8ms/step - loss: 1.2261 - accuracy: 0.4285 - val_loss: 1.1774 - val_accuracy: 0.4219\n",
            "Epoch 52/150\n",
            "40/40 [==============================] - 1s 24ms/step - loss: 1.2250 - accuracy: 0.4285 - val_loss: 1.1788 - val_accuracy: 0.4219\n",
            "Epoch 53/150\n",
            "40/40 [==============================] - 1s 20ms/step - loss: 1.2232 - accuracy: 0.4277 - val_loss: 1.1770 - val_accuracy: 0.4219\n",
            "Epoch 54/150\n",
            "40/40 [==============================] - 1s 17ms/step - loss: 1.2216 - accuracy: 0.4277 - val_loss: 1.1750 - val_accuracy: 0.4219\n",
            "Epoch 55/150\n",
            "40/40 [==============================] - 0s 9ms/step - loss: 1.2204 - accuracy: 0.4285 - val_loss: 1.1758 - val_accuracy: 0.4219\n",
            "Epoch 56/150\n",
            "40/40 [==============================] - 0s 6ms/step - loss: 1.2188 - accuracy: 0.4285 - val_loss: 1.1730 - val_accuracy: 0.4219\n",
            "Epoch 57/150\n",
            "40/40 [==============================] - 0s 5ms/step - loss: 1.2175 - accuracy: 0.4285 - val_loss: 1.1742 - val_accuracy: 0.4219\n",
            "Epoch 58/150\n",
            "40/40 [==============================] - 0s 6ms/step - loss: 1.2163 - accuracy: 0.4285 - val_loss: 1.1721 - val_accuracy: 0.4219\n",
            "Epoch 59/150\n",
            "40/40 [==============================] - 0s 6ms/step - loss: 1.2157 - accuracy: 0.4277 - val_loss: 1.1721 - val_accuracy: 0.4219\n",
            "Epoch 60/150\n",
            "40/40 [==============================] - 0s 10ms/step - loss: 1.2141 - accuracy: 0.4285 - val_loss: 1.1708 - val_accuracy: 0.4219\n",
            "Epoch 61/150\n",
            "40/40 [==============================] - 0s 6ms/step - loss: 1.2134 - accuracy: 0.4285 - val_loss: 1.1687 - val_accuracy: 0.4219\n",
            "Epoch 62/150\n",
            "40/40 [==============================] - 0s 9ms/step - loss: 1.2127 - accuracy: 0.4285 - val_loss: 1.1675 - val_accuracy: 0.4219\n",
            "Epoch 63/150\n",
            "40/40 [==============================] - 0s 5ms/step - loss: 1.2120 - accuracy: 0.4277 - val_loss: 1.1695 - val_accuracy: 0.4219\n",
            "Epoch 64/150\n",
            "40/40 [==============================] - 0s 5ms/step - loss: 1.2110 - accuracy: 0.4285 - val_loss: 1.1668 - val_accuracy: 0.4219\n",
            "Epoch 65/150\n",
            "40/40 [==============================] - 0s 7ms/step - loss: 1.2098 - accuracy: 0.4285 - val_loss: 1.1697 - val_accuracy: 0.4219\n",
            "Epoch 66/150\n",
            "40/40 [==============================] - 0s 6ms/step - loss: 1.2088 - accuracy: 0.4285 - val_loss: 1.1686 - val_accuracy: 0.4219\n",
            "Epoch 67/150\n",
            "40/40 [==============================] - 0s 8ms/step - loss: 1.2082 - accuracy: 0.4285 - val_loss: 1.1646 - val_accuracy: 0.4219\n",
            "Epoch 68/150\n",
            "40/40 [==============================] - 0s 5ms/step - loss: 1.2077 - accuracy: 0.4285 - val_loss: 1.1667 - val_accuracy: 0.4219\n",
            "Epoch 69/150\n",
            "40/40 [==============================] - 0s 3ms/step - loss: 1.2067 - accuracy: 0.4277 - val_loss: 1.1678 - val_accuracy: 0.4219\n",
            "Epoch 70/150\n",
            "40/40 [==============================] - 0s 3ms/step - loss: 1.2052 - accuracy: 0.4285 - val_loss: 1.1687 - val_accuracy: 0.4219\n",
            "Epoch 71/150\n",
            "40/40 [==============================] - 0s 3ms/step - loss: 1.2061 - accuracy: 0.4285 - val_loss: 1.1647 - val_accuracy: 0.4219\n",
            "Epoch 72/150\n",
            "40/40 [==============================] - 0s 3ms/step - loss: 1.2041 - accuracy: 0.4285 - val_loss: 1.1670 - val_accuracy: 0.4219\n",
            "Epoch 73/150\n",
            "40/40 [==============================] - 0s 3ms/step - loss: 1.2033 - accuracy: 0.4285 - val_loss: 1.1691 - val_accuracy: 0.4219\n",
            "Epoch 74/150\n",
            "40/40 [==============================] - 0s 4ms/step - loss: 1.2029 - accuracy: 0.4285 - val_loss: 1.1668 - val_accuracy: 0.4219\n",
            "Epoch 75/150\n",
            "40/40 [==============================] - 0s 3ms/step - loss: 1.2019 - accuracy: 0.4285 - val_loss: 1.1671 - val_accuracy: 0.4219\n",
            "Epoch 76/150\n",
            "40/40 [==============================] - 0s 3ms/step - loss: 1.2052 - accuracy: 0.4285 - val_loss: 1.1637 - val_accuracy: 0.4219\n",
            "Epoch 77/150\n",
            "40/40 [==============================] - 0s 3ms/step - loss: 1.2021 - accuracy: 0.4285 - val_loss: 1.1613 - val_accuracy: 0.4219\n",
            "Epoch 78/150\n",
            "40/40 [==============================] - 0s 3ms/step - loss: 1.2009 - accuracy: 0.4285 - val_loss: 1.1650 - val_accuracy: 0.4219\n",
            "Epoch 79/150\n",
            "40/40 [==============================] - 0s 3ms/step - loss: 1.2002 - accuracy: 0.4285 - val_loss: 1.1654 - val_accuracy: 0.4219\n",
            "Epoch 80/150\n",
            "40/40 [==============================] - 0s 3ms/step - loss: 1.1997 - accuracy: 0.4285 - val_loss: 1.1687 - val_accuracy: 0.4219\n",
            "Epoch 81/150\n",
            "40/40 [==============================] - 0s 3ms/step - loss: 1.1994 - accuracy: 0.4285 - val_loss: 1.1649 - val_accuracy: 0.4219\n",
            "Epoch 82/150\n",
            "40/40 [==============================] - 0s 3ms/step - loss: 1.2000 - accuracy: 0.4277 - val_loss: 1.1667 - val_accuracy: 0.4219\n",
            "Epoch 83/150\n",
            "40/40 [==============================] - 0s 3ms/step - loss: 1.1989 - accuracy: 0.4285 - val_loss: 1.1661 - val_accuracy: 0.4219\n",
            "Epoch 84/150\n",
            "40/40 [==============================] - 0s 3ms/step - loss: 1.1983 - accuracy: 0.4285 - val_loss: 1.1668 - val_accuracy: 0.4219\n",
            "Epoch 85/150\n",
            "40/40 [==============================] - 0s 3ms/step - loss: 1.1983 - accuracy: 0.4285 - val_loss: 1.1666 - val_accuracy: 0.4219\n",
            "Epoch 86/150\n",
            "40/40 [==============================] - 0s 3ms/step - loss: 1.1971 - accuracy: 0.4285 - val_loss: 1.1653 - val_accuracy: 0.4219\n",
            "Epoch 87/150\n",
            "40/40 [==============================] - 0s 3ms/step - loss: 1.1966 - accuracy: 0.4285 - val_loss: 1.1670 - val_accuracy: 0.4219\n",
            "Epoch 88/150\n",
            "40/40 [==============================] - 0s 3ms/step - loss: 1.1968 - accuracy: 0.4277 - val_loss: 1.1657 - val_accuracy: 0.4219\n",
            "Epoch 89/150\n",
            "40/40 [==============================] - 0s 3ms/step - loss: 1.1962 - accuracy: 0.4285 - val_loss: 1.1652 - val_accuracy: 0.4219\n",
            "Epoch 90/150\n",
            "40/40 [==============================] - 0s 3ms/step - loss: 1.1959 - accuracy: 0.4285 - val_loss: 1.1663 - val_accuracy: 0.4219\n",
            "Epoch 91/150\n",
            "40/40 [==============================] - 0s 3ms/step - loss: 1.1968 - accuracy: 0.4277 - val_loss: 1.1634 - val_accuracy: 0.4219\n",
            "Epoch 92/150\n",
            "40/40 [==============================] - 0s 3ms/step - loss: 1.1959 - accuracy: 0.4285 - val_loss: 1.1677 - val_accuracy: 0.4219\n",
            "Epoch 93/150\n",
            "40/40 [==============================] - 0s 3ms/step - loss: 1.1959 - accuracy: 0.4285 - val_loss: 1.1630 - val_accuracy: 0.4219\n",
            "Epoch 94/150\n",
            "40/40 [==============================] - 0s 3ms/step - loss: 1.1948 - accuracy: 0.4285 - val_loss: 1.1647 - val_accuracy: 0.4219\n",
            "Epoch 95/150\n",
            "40/40 [==============================] - 0s 3ms/step - loss: 1.1942 - accuracy: 0.4285 - val_loss: 1.1673 - val_accuracy: 0.4219\n",
            "Epoch 96/150\n",
            "40/40 [==============================] - 0s 3ms/step - loss: 1.1944 - accuracy: 0.4285 - val_loss: 1.1644 - val_accuracy: 0.4219\n",
            "Epoch 97/150\n",
            "40/40 [==============================] - 0s 3ms/step - loss: 1.1956 - accuracy: 0.4277 - val_loss: 1.1646 - val_accuracy: 0.4219\n",
            "Epoch 98/150\n",
            "40/40 [==============================] - 0s 3ms/step - loss: 1.1934 - accuracy: 0.4285 - val_loss: 1.1657 - val_accuracy: 0.4219\n",
            "Epoch 99/150\n",
            "40/40 [==============================] - 0s 3ms/step - loss: 1.1948 - accuracy: 0.4277 - val_loss: 1.1692 - val_accuracy: 0.4219\n",
            "Epoch 100/150\n",
            "40/40 [==============================] - 0s 3ms/step - loss: 1.1931 - accuracy: 0.4285 - val_loss: 1.1667 - val_accuracy: 0.4219\n",
            "Epoch 101/150\n",
            "40/40 [==============================] - 0s 3ms/step - loss: 1.1933 - accuracy: 0.4285 - val_loss: 1.1646 - val_accuracy: 0.4219\n",
            "Epoch 102/150\n",
            "40/40 [==============================] - 0s 3ms/step - loss: 1.1934 - accuracy: 0.4285 - val_loss: 1.1632 - val_accuracy: 0.4219\n",
            "Epoch 103/150\n",
            "40/40 [==============================] - 0s 3ms/step - loss: 1.1926 - accuracy: 0.4285 - val_loss: 1.1661 - val_accuracy: 0.4219\n",
            "Epoch 104/150\n",
            "40/40 [==============================] - 0s 3ms/step - loss: 1.1930 - accuracy: 0.4285 - val_loss: 1.1643 - val_accuracy: 0.4219\n",
            "Epoch 105/150\n",
            "40/40 [==============================] - 0s 3ms/step - loss: 1.1922 - accuracy: 0.4285 - val_loss: 1.1665 - val_accuracy: 0.4219\n",
            "Epoch 106/150\n",
            "40/40 [==============================] - 0s 3ms/step - loss: 1.1920 - accuracy: 0.4285 - val_loss: 1.1658 - val_accuracy: 0.4219\n",
            "Epoch 107/150\n",
            "40/40 [==============================] - 0s 3ms/step - loss: 1.1916 - accuracy: 0.4285 - val_loss: 1.1659 - val_accuracy: 0.4219\n",
            "Epoch 108/150\n",
            "40/40 [==============================] - 0s 3ms/step - loss: 1.1915 - accuracy: 0.4285 - val_loss: 1.1688 - val_accuracy: 0.4219\n",
            "Epoch 109/150\n",
            "40/40 [==============================] - 0s 3ms/step - loss: 1.1944 - accuracy: 0.4285 - val_loss: 1.1635 - val_accuracy: 0.4219\n",
            "Epoch 110/150\n",
            "40/40 [==============================] - 0s 3ms/step - loss: 1.1957 - accuracy: 0.4277 - val_loss: 1.1605 - val_accuracy: 0.4219\n",
            "Epoch 111/150\n",
            "40/40 [==============================] - 0s 3ms/step - loss: 1.1928 - accuracy: 0.4285 - val_loss: 1.1668 - val_accuracy: 0.4219\n",
            "Epoch 112/150\n",
            "40/40 [==============================] - 0s 3ms/step - loss: 1.1916 - accuracy: 0.4285 - val_loss: 1.1679 - val_accuracy: 0.4219\n",
            "Epoch 113/150\n",
            "40/40 [==============================] - 0s 3ms/step - loss: 1.1908 - accuracy: 0.4285 - val_loss: 1.1666 - val_accuracy: 0.4219\n",
            "Epoch 114/150\n",
            "40/40 [==============================] - 0s 3ms/step - loss: 1.1911 - accuracy: 0.4285 - val_loss: 1.1672 - val_accuracy: 0.4219\n",
            "Epoch 115/150\n",
            "40/40 [==============================] - 0s 5ms/step - loss: 1.1915 - accuracy: 0.4277 - val_loss: 1.1724 - val_accuracy: 0.4187\n",
            "Epoch 116/150\n",
            "40/40 [==============================] - 0s 4ms/step - loss: 1.1912 - accuracy: 0.4269 - val_loss: 1.1675 - val_accuracy: 0.4187\n",
            "Epoch 117/150\n",
            "40/40 [==============================] - 0s 4ms/step - loss: 1.1912 - accuracy: 0.4269 - val_loss: 1.1634 - val_accuracy: 0.4219\n",
            "Epoch 118/150\n",
            "40/40 [==============================] - 0s 4ms/step - loss: 1.1907 - accuracy: 0.4277 - val_loss: 1.1614 - val_accuracy: 0.4219\n",
            "Epoch 119/150\n",
            "40/40 [==============================] - 0s 4ms/step - loss: 1.1908 - accuracy: 0.4285 - val_loss: 1.1624 - val_accuracy: 0.4219\n",
            "Epoch 120/150\n",
            "40/40 [==============================] - 0s 4ms/step - loss: 1.1903 - accuracy: 0.4277 - val_loss: 1.1639 - val_accuracy: 0.4219\n",
            "Epoch 121/150\n",
            "40/40 [==============================] - 0s 4ms/step - loss: 1.1898 - accuracy: 0.4269 - val_loss: 1.1584 - val_accuracy: 0.4219\n",
            "Epoch 122/150\n",
            "40/40 [==============================] - 0s 5ms/step - loss: 1.1901 - accuracy: 0.4285 - val_loss: 1.1613 - val_accuracy: 0.4219\n",
            "Epoch 123/150\n",
            "40/40 [==============================] - 0s 4ms/step - loss: 1.1896 - accuracy: 0.4269 - val_loss: 1.1650 - val_accuracy: 0.4187\n",
            "Epoch 124/150\n",
            "40/40 [==============================] - 0s 4ms/step - loss: 1.1898 - accuracy: 0.4269 - val_loss: 1.1642 - val_accuracy: 0.4187\n",
            "Epoch 125/150\n",
            "40/40 [==============================] - 0s 4ms/step - loss: 1.1895 - accuracy: 0.4269 - val_loss: 1.1625 - val_accuracy: 0.4187\n",
            "Epoch 126/150\n",
            "40/40 [==============================] - 0s 5ms/step - loss: 1.1889 - accuracy: 0.4269 - val_loss: 1.1631 - val_accuracy: 0.4187\n",
            "Epoch 127/150\n",
            "40/40 [==============================] - 0s 4ms/step - loss: 1.1883 - accuracy: 0.4269 - val_loss: 1.1646 - val_accuracy: 0.4187\n",
            "Epoch 128/150\n",
            "40/40 [==============================] - 0s 4ms/step - loss: 1.1901 - accuracy: 0.4269 - val_loss: 1.1614 - val_accuracy: 0.4187\n",
            "Epoch 129/150\n",
            "40/40 [==============================] - 0s 4ms/step - loss: 1.1882 - accuracy: 0.4269 - val_loss: 1.1652 - val_accuracy: 0.4187\n",
            "Epoch 130/150\n",
            "40/40 [==============================] - 0s 5ms/step - loss: 1.1886 - accuracy: 0.4269 - val_loss: 1.1635 - val_accuracy: 0.4187\n",
            "Epoch 131/150\n",
            "40/40 [==============================] - 0s 4ms/step - loss: 1.1879 - accuracy: 0.4269 - val_loss: 1.1632 - val_accuracy: 0.4187\n",
            "Epoch 132/150\n",
            "40/40 [==============================] - 0s 5ms/step - loss: 1.1875 - accuracy: 0.4269 - val_loss: 1.1648 - val_accuracy: 0.4187\n",
            "Epoch 133/150\n",
            "40/40 [==============================] - 0s 3ms/step - loss: 1.1879 - accuracy: 0.4269 - val_loss: 1.1639 - val_accuracy: 0.4187\n",
            "Epoch 134/150\n",
            "40/40 [==============================] - 0s 3ms/step - loss: 1.1876 - accuracy: 0.4269 - val_loss: 1.1612 - val_accuracy: 0.4187\n",
            "Epoch 135/150\n",
            "40/40 [==============================] - 0s 3ms/step - loss: 1.1872 - accuracy: 0.4269 - val_loss: 1.1639 - val_accuracy: 0.4187\n",
            "Epoch 136/150\n",
            "40/40 [==============================] - 0s 3ms/step - loss: 1.1854 - accuracy: 0.4269 - val_loss: 1.1632 - val_accuracy: 0.4187\n",
            "Epoch 137/150\n",
            "40/40 [==============================] - 0s 3ms/step - loss: 1.1871 - accuracy: 0.4269 - val_loss: 1.1638 - val_accuracy: 0.4187\n",
            "Epoch 138/150\n",
            "40/40 [==============================] - 0s 3ms/step - loss: 1.1869 - accuracy: 0.4269 - val_loss: 1.1632 - val_accuracy: 0.4187\n",
            "Epoch 139/150\n",
            "40/40 [==============================] - 0s 3ms/step - loss: 1.1867 - accuracy: 0.4269 - val_loss: 1.1604 - val_accuracy: 0.4187\n",
            "Epoch 140/150\n",
            "40/40 [==============================] - 0s 3ms/step - loss: 1.1859 - accuracy: 0.4269 - val_loss: 1.1622 - val_accuracy: 0.4187\n",
            "Epoch 141/150\n",
            "40/40 [==============================] - 0s 3ms/step - loss: 1.1861 - accuracy: 0.4269 - val_loss: 1.1584 - val_accuracy: 0.4187\n",
            "Epoch 142/150\n",
            "40/40 [==============================] - 0s 3ms/step - loss: 1.1859 - accuracy: 0.4269 - val_loss: 1.1586 - val_accuracy: 0.4187\n",
            "Epoch 143/150\n",
            "40/40 [==============================] - 0s 3ms/step - loss: 1.1860 - accuracy: 0.4269 - val_loss: 1.1610 - val_accuracy: 0.4187\n",
            "Epoch 144/150\n",
            "40/40 [==============================] - 0s 3ms/step - loss: 1.1859 - accuracy: 0.4269 - val_loss: 1.1597 - val_accuracy: 0.4187\n",
            "Epoch 145/150\n",
            "40/40 [==============================] - 0s 3ms/step - loss: 1.1853 - accuracy: 0.4269 - val_loss: 1.1650 - val_accuracy: 0.4187\n",
            "Epoch 146/150\n",
            "40/40 [==============================] - 0s 3ms/step - loss: 1.1860 - accuracy: 0.4277 - val_loss: 1.1603 - val_accuracy: 0.4187\n",
            "Epoch 147/150\n",
            "40/40 [==============================] - 0s 3ms/step - loss: 1.1861 - accuracy: 0.4269 - val_loss: 1.1658 - val_accuracy: 0.4187\n",
            "Epoch 148/150\n",
            "40/40 [==============================] - 0s 3ms/step - loss: 1.1851 - accuracy: 0.4269 - val_loss: 1.1591 - val_accuracy: 0.4187\n",
            "Epoch 149/150\n",
            "40/40 [==============================] - 0s 3ms/step - loss: 1.1841 - accuracy: 0.4269 - val_loss: 1.1609 - val_accuracy: 0.4187\n",
            "Epoch 150/150\n",
            "40/40 [==============================] - 0s 3ms/step - loss: 1.1847 - accuracy: 0.4269 - val_loss: 1.1609 - val_accuracy: 0.4187\n"
          ]
        }
      ],
      "source": [
        "nn = tf.keras.models.Sequential(layers = None , name = None)\n",
        "nn.add(tf.keras.layers.Input(shape = 8,))\n",
        "nn.add(tf.keras.layers.Dense(units = 16 , activation = \"relu\" ))\n",
        "nn.add(tf.keras.layers.Dense(units = 8 , activation = \"relu\" ))\n",
        "nn.add(tf.keras.layers.Dense(units = 6 , activation = \"sigmoid\"))\n",
        "nn.summary()\n",
        "nn.compile(optimizer = 'adam' , loss = 'categorical_crossentropy' ,metrics= ['accuracy'])\n",
        "history = nn.fit(x_train, y_train_cat,  batch_size= 32, epochs = 150 , validation_data = (x_test,y_test_cat))"
      ]
    },
    {
      "cell_type": "markdown",
      "id": "d2d16b70",
      "metadata": {
        "id": "d2d16b70",
        "papermill": {
          "duration": 0.237664,
          "end_time": "2022-03-22T02:41:21.810943",
          "exception": false,
          "start_time": "2022-03-22T02:41:21.573279",
          "status": "completed"
        },
        "tags": []
      },
      "source": [
        "evaluation of my model"
      ]
    },
    {
      "cell_type": "code",
      "execution_count": 53,
      "id": "d513dfb2",
      "metadata": {
        "colab": {
          "base_uri": "https://localhost:8080/",
          "height": 295
        },
        "execution": {
          "iopub.execute_input": "2022-03-22T02:41:22.293606Z",
          "iopub.status.busy": "2022-03-22T02:41:22.292968Z",
          "iopub.status.idle": "2022-03-22T02:41:22.507073Z",
          "shell.execute_reply": "2022-03-22T02:41:22.506531Z",
          "shell.execute_reply.started": "2022-03-22T02:34:45.146161Z"
        },
        "id": "d513dfb2",
        "outputId": "98fe7890-c5c1-4433-91b6-5043695b05a1",
        "papermill": {
          "duration": 0.454016,
          "end_time": "2022-03-22T02:41:22.507221",
          "exception": false,
          "start_time": "2022-03-22T02:41:22.053205",
          "status": "completed"
        },
        "tags": []
      },
      "outputs": [
        {
          "data": {
            "image/png": "[encoded data removed]",
            "text/plain": [
              "<Figure size 432x288 with 1 Axes>"
            ]
          },
          "metadata": {
            "needs_background": "light"
          },
          "output_type": "display_data"
        }
      ],
      "source": [
        "plt.plot(history.history['loss'], label='training data')\n",
        "plt.plot(history.history['val_loss'], label='validation data')\n",
        "plt.legend()\n",
        "plt.title('MAE for model')\n",
        "plt.ylabel('MAE')\n",
        "plt.xlabel('epoch')\n",
        "plt.show()"
      ]
    },
    {
      "cell_type": "markdown",
      "id": "e564deaf",
      "metadata": {
        "id": "e564deaf",
        "papermill": {
          "duration": 0.24098,
          "end_time": "2022-03-22T02:41:22.991999",
          "exception": false,
          "start_time": "2022-03-22T02:41:22.751019",
          "status": "completed"
        },
        "tags": []
      },
      "source": [
        "I am plotting the accuracy of the training vs validation accuracy. "
      ]
    },
    {
      "cell_type": "code",
      "execution_count": 54,
      "id": "15a94a30",
      "metadata": {
        "colab": {
          "base_uri": "https://localhost:8080/",
          "height": 295
        },
        "execution": {
          "iopub.execute_input": "2022-03-22T02:41:23.475530Z",
          "iopub.status.busy": "2022-03-22T02:41:23.474853Z",
          "iopub.status.idle": "2022-03-22T02:41:23.688159Z",
          "shell.execute_reply": "2022-03-22T02:41:23.688706Z",
          "shell.execute_reply.started": "2022-03-22T02:34:52.345943Z"
        },
        "id": "15a94a30",
        "outputId": "95d53cb5-11c4-4114-a7ed-027f8ff3d7f0",
        "papermill": {
          "duration": 0.455888,
          "end_time": "2022-03-22T02:41:23.688880",
          "exception": false,
          "start_time": "2022-03-22T02:41:23.232992",
          "status": "completed"
        },
        "tags": []
      },
      "outputs": [
        {
          "data": {
            "image/png": "[encoded data removed]",
            "text/plain": [
              "<Figure size 432x288 with 1 Axes>"
            ]
          },
          "metadata": {
            "needs_background": "light"
          },
          "output_type": "display_data"
        }
      ],
      "source": [
        "plt.plot(history.history['accuracy'], label='Accuracy training data')\n",
        "plt.plot(history.history['val_accuracy'], label='Accuracy validation data')\n",
        "plt.legend()\n",
        "plt.title('Model accuracy')\n",
        "plt.ylabel('Accuracy')\n",
        "plt.xlabel('epoch')\n",
        "plt.show()"
      ]
    },
    {
      "cell_type": "markdown",
      "id": "592f10f7",
      "metadata": {
        "id": "592f10f7",
        "papermill": {
          "duration": 0.240883,
          "end_time": "2022-03-22T02:41:24.171529",
          "exception": false,
          "start_time": "2022-03-22T02:41:23.930646",
          "status": "completed"
        },
        "tags": []
      },
      "source": [
        "Conclusion"
      ]
    },
    {
      "cell_type": "markdown",
      "id": "bd1522c2",
      "metadata": {
        "id": "bd1522c2",
        "papermill": {
          "duration": 0.242355,
          "end_time": "2022-03-22T02:41:24.652810",
          "exception": false,
          "start_time": "2022-03-22T02:41:24.410455",
          "status": "completed"
        },
        "tags": []
      },
      "source": [
        "In the beginning, we could tell that the loss was significant. It does, however, decrease with each cycle. When compared to the validation data, the training data shows higher loss. Furthermore, the model is not effectively trained for a variety of reasons such as a short validation set and biassed data because the model is more resilient and can lead to better testing accuracies. And the figure shows that it provides improved accuracy in Validation testing."
      ]
    }
  ],
  "metadata": {
    "colab": {
      "provenance": []
    },
    "kernelspec": {
      "display_name": "Python 3",
      "language": "python",
      "name": "python3"
    },
    "language_info": {
      "codemirror_mode": {
        "name": "ipython",
        "version": 3
      },
      "file_extension": ".py",
      "mimetype": "text/x-python",
      "name": "python",
      "nbconvert_exporter": "python",
      "pygments_lexer": "ipython3",
      "version": "3.7.12"
    },
    "papermill": {
      "default_parameters": {},
      "duration": 74.837033,
      "end_time": "2022-03-22T02:41:27.895563",
      "environment_variables": {},
      "exception": null,
      "input_path": "__notebook__.ipynb",
      "output_path": "__notebook__.ipynb",
      "parameters": {},
      "start_time": "2022-03-22T02:40:13.058530",
      "version": "2.3.3"
    }
  },
  "nbformat": 4,
  "nbformat_minor": 5
}
